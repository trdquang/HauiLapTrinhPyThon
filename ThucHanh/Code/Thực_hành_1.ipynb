{
  "nbformat": 4,
  "nbformat_minor": 0,
  "metadata": {
    "colab": {
      "provenance": [],
      "toc_visible": true
    },
    "kernelspec": {
      "name": "python3",
      "display_name": "Python 3"
    },
    "language_info": {
      "name": "python"
    }
  },
  "cells": [
    {
      "cell_type": "markdown",
      "source": [
        "#Bài thực hành số 1"
      ],
      "metadata": {
        "id": "fF08WfYIEpua"
      }
    },
    {
      "cell_type": "markdown",
      "source": [
        "##Bài 1: Convert\n",
        "\n",
        "Nhập một số nguyên có ít hơn 5 chữ số, in ra màn hình cách đọc số nguyên đó (ví dụ: \n",
        "số 1523 đọc là: 1 ngàn 5 trăm 2 chục 3 đơn vị). \n"
      ],
      "metadata": {
        "id": "2jxncX85EsnZ"
      }
    },
    {
      "cell_type": "code",
      "execution_count": null,
      "metadata": {
        "colab": {
          "base_uri": "https://localhost:8080/"
        },
        "id": "XRz_2b20EkQI",
        "outputId": "6ca6f2e0-1d90-4671-97b0-c01e1404ca69"
      },
      "outputs": [
        {
          "output_type": "stream",
          "name": "stdout",
          "text": [
            "Nhập số có ít hơn năm chữ số: -9999\n",
            "âm 9 nghìn 9 trăm 9 chục 9 đơn vị "
          ]
        }
      ],
      "source": [
        "num = int(input(\"Nhập số có ít hơn năm chữ số: \"))\n",
        "\n",
        "while abs(num) > 9999:\n",
        "  num = int(input(\"Nhập số có ít hơn năm chữ số: \"))\n",
        "\n",
        "nghin = abs(num)//1000\n",
        "tram = abs(num)//100 % 10\n",
        "chuc = abs(num)//10 % 10\n",
        "donvi = abs(num)%10\n",
        "\n",
        "if num < 0:\n",
        "  print(\"âm\", end = \" \")\n",
        "\n",
        "if nghin:\n",
        "  print(nghin, \"nghìn\", end = \" \")\n",
        "\n",
        "if tram:\n",
        "  print(tram, \"trăm\", end = \" \")\n",
        "\n",
        "if chuc:\n",
        "  print(chuc, \"chục\", end = \" \")\n",
        "\n",
        "if donvi:\n",
        "  print(donvi, \"đơn vị\", end = \" \")\n",
        "\n"
      ]
    },
    {
      "cell_type": "markdown",
      "source": [
        "##Bài 2: Distance\n",
        "\n",
        "Cho hai điểm A(x1, y1), B(x2, y2) trên mặt phẳng tọa độ xOy. Viết chương trình nhập \n",
        "vào x1, x2, y1, y2. Tính và in ra màn hình: \n",
        "\n",
        "Khoảng cách Euclidean giữa A và B theo công thức:\n",
        "\n",
        "**D** = $\\sqrt{ (x2-x1)^2 + (y2-y1)^2  }$\n"
      ],
      "metadata": {
        "id": "RU2RPU83Hp9t"
      }
    },
    {
      "cell_type": "markdown",
      "source": [
        "Khoảng cách Manhattan giữa A và B: \n",
        "\n",
        "**M** = $\\lvert x2 - x1\\rvert$ + $\\lvert y2 - y1\\rvert$"
      ],
      "metadata": {
        "id": "qBlZPhq4H9vx"
      }
    },
    {
      "cell_type": "markdown",
      "source": [
        "Khoảng cách Cosin giữa A và B: \n",
        "\n",
        "**C** = **1** - **$\\frac{x1x2 + y1y2}{\\sqrt{x1^2 + y1^2}\\sqrt{x2^2+y2^2}}$**"
      ],
      "metadata": {
        "id": "JzABExWcTlJd"
      }
    },
    {
      "cell_type": "code",
      "source": [
        "print('Nhập tọa độ cho A')\n",
        "xA = float(input('xA = '))\n",
        "yA = float(input('yA = '))\n",
        "\n",
        "print('Nhập tọa độ cho B')\n",
        "xB = float(input('xB = '))\n",
        "yB = float(input('yB = '))\n",
        "\n",
        "euclid_dis = ((xB - xA)**2 + (yB - yA)**2 )**(1/2)\n",
        "mahat_dis = abs(xB - xA) + abs(yB - yA)\n",
        "cos_dis = 1 - (xA*xB + yA*yB) / ((xA**2 +yA**2)**(1/2) * (xB**2 + yB**2)**(1/2))\n",
        "\n",
        "print('Euclid distance = %.2f' %euclid_dis)\n",
        "print('Mahattan distance = %.2f' %mahat_dis)\n",
        "print('Cosin distance = %.2f' %cos_dis)"
      ],
      "metadata": {
        "colab": {
          "base_uri": "https://localhost:8080/"
        },
        "id": "7EDn7uuhEm1J",
        "outputId": "5341fc92-289f-49ed-dbd6-15e54bfb4f15"
      },
      "execution_count": null,
      "outputs": [
        {
          "output_type": "stream",
          "name": "stdout",
          "text": [
            "Nhập tọa độ cho A\n",
            "xA = 1\n",
            "yA = 1\n",
            "Nhập tọa độ cho B\n",
            "xB = 2\n",
            "yB = 2\n",
            "Euclid distance = 1.41\n",
            "Mahattan distance = 2.00\n",
            "Cosin distance = 0.00\n"
          ]
        }
      ]
    },
    {
      "cell_type": "markdown",
      "source": [
        "##Bài 3: Equations\n",
        "\n",
        "Viết chương trình giải và biện luận phương trình bậc hai với các hệ số a, b, c nhập từ \n",
        "bàn phím. Chú ý biện luận trong trường hợp phương trình nhập vào không phải là bậc \n",
        "2"
      ],
      "metadata": {
        "id": "LILA9mhgJu7e"
      }
    },
    {
      "cell_type": "code",
      "source": [
        "a = float(input('a = '))\n",
        "b = float(input('b = '))\n",
        "c = float(input('c = '))\n",
        "\n",
        "print('Giải phương trình {}x^2 + {}x + {} == 0'.format(a, b, c))\n",
        "\n",
        "if a == 0:\n",
        "  if b == 0:\n",
        "    if c == 0:\n",
        "      print('Phương trình có vô số nghiệm')\n",
        "    else:\n",
        "      print('Phương trình vô nghiệm')\n",
        "  else:\n",
        "    print('Phương trình có nghiệm duy nhất, x = {}'.format(-c/b))\n",
        "else:\n",
        "  delta = b**2 - 4*a*c\n",
        "  if delta < 0:\n",
        "    print('Phương trình vô nghiệm')\n",
        "  elif delta == 0:\n",
        "    x = -b/2/a \n",
        "    print('Phương trình có nghiệm kép x1 = x2 = {}'.format(x))\n",
        "  else:\n",
        "    x1, x2 = (-b - delta**(1/2))/2/a, (-b + delta**(1/2))/2/a\n",
        "    print('Phương trình có 2 nghiệm phân biệt')\n",
        "    print('x1 = {}'.format(x1))\n",
        "    print('x2 = {}'.format(x2))"
      ],
      "metadata": {
        "colab": {
          "base_uri": "https://localhost:8080/"
        },
        "id": "jerhKrA3EmyY",
        "outputId": "ac00b8d4-a178-4179-e1b8-08b2cacc0b1a"
      },
      "execution_count": null,
      "outputs": [
        {
          "output_type": "stream",
          "name": "stdout",
          "text": [
            "a = 1\n",
            "b = 3\n",
            "c = 2\n",
            "Giải phương trình 1.0x^2 + 3.0x + 2.0 == 0\n",
            "Phương trình có 2 nghiệm phân biệt\n",
            "x1 = -2.0\n",
            "x2 = -1.0\n"
          ]
        }
      ]
    },
    {
      "cell_type": "markdown",
      "source": [
        "##Bài 4: Sequence\n",
        "\n",
        "Viết chương trình nhập vào một số thực x và số nguyên n, sau đó tính giá trị biểu thức: \n",
        "\n",
        "![image.png](data:image/png;base64,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)"
      ],
      "metadata": {
        "id": "N7mRB8VrMBFM"
      }
    },
    {
      "cell_type": "code",
      "source": [
        "x = float(input('Nhập số thực x = '))\n",
        "n = int(input('Nhập số nguyên n = '))\n",
        "\n",
        "if n % 2 != 0:\n",
        "  print('S = 0')\n",
        "else:\n",
        "  s = 2016 * x\n",
        "  for i in range(2, n + 1):\n",
        "    s += (x ** i)/3 **(i - 1)\n",
        "  print('S = {:.3f}'.format(s))\n"
      ],
      "metadata": {
        "colab": {
          "base_uri": "https://localhost:8080/"
        },
        "id": "2u0I86_3Emv4",
        "outputId": "d2a9ab64-b3a9-4098-ca29-31d590e405a5"
      },
      "execution_count": null,
      "outputs": [
        {
          "output_type": "stream",
          "name": "stdout",
          "text": [
            "Nhập số thực x = 2\n",
            "Nhập số nguyên n = 2\n",
            "S = 4033.333\n"
          ]
        }
      ]
    },
    {
      "cell_type": "markdown",
      "source": [
        "##Bài 5: License Plate\n",
        "\n",
        "Nhập vào một số nguyên n có ít hơn 7 chữ số. Số vừa nhập là hợp lệ nếu nó là một số \n",
        "nguyên tố và đối xứng"
      ],
      "metadata": {
        "id": "s9fFHakmM2Ik"
      }
    },
    {
      "cell_type": "code",
      "source": [
        "n = int(input('n = '))\n",
        "\n",
        "while abs(n) > 666666:\n",
        "  n = int(input('n = '))\n",
        "\n",
        "ktra_ngto = 1\n",
        "tmp = n\n",
        "res = 0\n",
        "\n",
        "\n",
        "\n",
        "while tmp > 0:\n",
        "  res = res * 10 + tmp % 10\n",
        "  tmp //= 10\n",
        "\n",
        "if res != n:\n",
        "  print('{} không hợp lệ. Vì không đối xứng'.format(n))\n",
        "else:\n",
        "  print('{} là số đối xứng'.format(n))\n",
        "  if n < 2:\n",
        "    ktra_ngto = 0\n",
        "  else:\n",
        "    for i in range(2, int(n ** (1/2) + 1)): \n",
        "      if n % i == 0:\n",
        "        ktra_ngto = 0\n",
        "        break\n",
        "  \n",
        "  if ktra_ngto == 0:\n",
        "    print('{} không phải nguyên tố'.format(n))\n",
        "    print('{} không hợp lệ'.format(n))\n",
        "  else:\n",
        "    print('{} là số nguyên tố'.format(n))\n",
        "    print('{} là số hợp lệ'.format(n))\n"
      ],
      "metadata": {
        "colab": {
          "base_uri": "https://localhost:8080/"
        },
        "id": "lnJ_JaCqEmtR",
        "outputId": "13cc97e1-b3e1-45f5-f31d-fc809ca5e793"
      },
      "execution_count": null,
      "outputs": [
        {
          "output_type": "stream",
          "name": "stdout",
          "text": [
            "n = 2\n",
            "2 là số đối xứng\n",
            "2 là số nguyên tố\n",
            "2 là số hợp lệ\n"
          ]
        }
      ]
    },
    {
      "cell_type": "code",
      "source": [],
      "metadata": {
        "id": "097-Yx5lEmqq"
      },
      "execution_count": null,
      "outputs": []
    },
    {
      "cell_type": "code",
      "source": [],
      "metadata": {
        "id": "S_yPrnlLEmnw"
      },
      "execution_count": null,
      "outputs": []
    },
    {
      "cell_type": "code",
      "source": [],
      "metadata": {
        "id": "HKMhfS1TEmlA"
      },
      "execution_count": null,
      "outputs": []
    },
    {
      "cell_type": "code",
      "source": [],
      "metadata": {
        "id": "koedLSV-EmiT"
      },
      "execution_count": null,
      "outputs": []
    },
    {
      "cell_type": "code",
      "source": [],
      "metadata": {
        "id": "wB5UyAXTEmfo"
      },
      "execution_count": null,
      "outputs": []
    },
    {
      "cell_type": "code",
      "source": [],
      "metadata": {
        "id": "EaQ7decHEmc6"
      },
      "execution_count": null,
      "outputs": []
    },
    {
      "cell_type": "code",
      "source": [],
      "metadata": {
        "id": "e20MuzwTEmbX"
      },
      "execution_count": null,
      "outputs": []
    },
    {
      "cell_type": "code",
      "source": [],
      "metadata": {
        "id": "ArDRU2pgEmYH"
      },
      "execution_count": null,
      "outputs": []
    },
    {
      "cell_type": "code",
      "source": [],
      "metadata": {
        "id": "UcCQLgGrEmU5"
      },
      "execution_count": null,
      "outputs": []
    },
    {
      "cell_type": "code",
      "source": [],
      "metadata": {
        "id": "vmSKaNlcEmSI"
      },
      "execution_count": null,
      "outputs": []
    }
  ]
}