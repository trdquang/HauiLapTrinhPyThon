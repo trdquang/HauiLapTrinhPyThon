{
  "nbformat": 4,
  "nbformat_minor": 0,
  "metadata": {
    "colab": {
      "provenance": [],
      "toc_visible": true
    },
    "kernelspec": {
      "name": "python3",
      "display_name": "Python 3"
    },
    "language_info": {
      "name": "python"
    }
  },
  "cells": [
    {
      "cell_type": "markdown",
      "source": [
        "#Thực hành 2"
      ],
      "metadata": {
        "id": "gT1A3l7fa5Wf"
      }
    },
    {
      "cell_type": "markdown",
      "source": [
        "##Bài 1: License Plate - Upgrade\n",
        "\n",
        "* Viết hàm kiểm tra xem một số nguyên (không quá 8 chữ số) có phải là số nguyên \n",
        "tố không. \n",
        "* Viết hàm kiểm tra xem một số nguyên có là số đối xứng không (Xem Bài 1.5). \n",
        "* Viết chương trình cho phép: Nhập vào hai số nguyên S và E, quy định S < E và E \n",
        "có không quá 8 chữ số. Nếu người dùng nhập sai quy định, cho phép nhập lại cho \n",
        "tới khi đúng. Tính tổng toàn bộ các số vừa nguyên tố, vừa đối xứng trong đoạn [S, \n",
        "E]. "
      ],
      "metadata": {
        "id": "QiF1wEgMa7aG"
      }
    },
    {
      "cell_type": "code",
      "execution_count": null,
      "metadata": {
        "id": "-GXDiPJjQTuV",
        "colab": {
          "base_uri": "https://localhost:8080/"
        },
        "outputId": "082eb7ac-5cd2-4ad3-b24a-f7c0083a7c16"
      },
      "outputs": [
        {
          "output_type": "stream",
          "name": "stdout",
          "text": [
            "Please input first integer number: 1\n",
            "Please input second integer number, bigger than first and has no more than eight digits: 1000\n",
            "50039\n"
          ]
        }
      ],
      "source": [
        "def check_prime(n):\n",
        "  if n < 2:\n",
        "    return False\n",
        "    for i in range(2, n**(1/2) + 1):\n",
        "      if n % i == 0:\n",
        "        return False\n",
        "  return True\n",
        "\n",
        "def check_symmetric(n):\n",
        "  tmp = n\n",
        "  res = 0\n",
        "  while tmp:\n",
        "    res = res * 10 + tmp % 10\n",
        "    tmp //=10\n",
        "  if res == n:\n",
        "    return True\n",
        "  return False\n",
        "\n",
        "def input_two_num():\n",
        "  s = int(input('Please input first integer number: '))\n",
        "  e = int(input('Please input second integer number, bigger than first and has no more than eight digits: '))\n",
        "  while e <= s or abs(e) > 9999999:\n",
        "    e = int(input('Please input second number: '))\n",
        "  return s, e\n",
        "if __name__ == '__main__':\n",
        "  s, e = input_two_num()\n",
        "  sum = 0\n",
        "  for i in range(s, e + 1):\n",
        "    if check_prime(i) and check_symmetric(i):\n",
        "      sum += i\n",
        "  \n",
        "\n",
        "  print(sum)"
      ]
    },
    {
      "cell_type": "markdown",
      "source": [
        "##Bài 2: Convert\n",
        "\n",
        "Viết các hàm chức năng:\n",
        "* Chứa các biến toàn cục là tỷ giá của các loại ngoại tệ (nên lấy ít nhất 3 ngoại tệ)\n",
        "* Chứa hàm quy đổi từ tiền VND ra các ngoại tệ (sử dụng tỷ giá trong  Function 1). \n",
        "* Hàm chính: Nhập vào số dặm bay, số tiền VND/ 1 dặm bay. Tính ra tổng số tiền phải trả bằng VNĐ và đổi ra các loại ngoại tệ khác (sử dụng các module \n",
        "đã định nghĩa). "
      ],
      "metadata": {
        "id": "ykapMo6HdorL"
      }
    },
    {
      "cell_type": "code",
      "source": [
        "RUP = 170\n",
        "DOLLAR = 23000\n",
        "EUR = 26000\n",
        "\n",
        "def convert_to_rup(money):\n",
        "  return money/RUP\n",
        "def convert_to_dollar(money):\n",
        "  return money/DOLLAR\n",
        "def convert_to_eur(money):\n",
        "  return money/EUR \n",
        "\n",
        "if __name__ == '__main__':\n",
        "  dis = float(input('Please enter the distance to fly: '))\n",
        "  money = float(input('Please enter the amonut for 1 mile: '))\n",
        "  cost_vnd = money * dis\n",
        "  print('Flight price (RUP) = {:,.2f}'.format(convert_to_rup(cost_vnd))) \n",
        "  print('Flight price (DOLLAR) = {:,.2f}'.format(convert_to_dollar(cost_vnd))) \n",
        "  print('Flight price (EUR) = {:,.2f}'.format(convert_to_eur(cost_vnd))) \n"
      ],
      "metadata": {
        "colab": {
          "base_uri": "https://localhost:8080/"
        },
        "id": "Q4DKWkEHbBzv",
        "outputId": "e4cca711-393b-41be-f73c-14c32b81b8ea"
      },
      "execution_count": 24,
      "outputs": [
        {
          "output_type": "stream",
          "name": "stdout",
          "text": [
            "Please enter the distance to fly: 20000\n",
            "Please enter the amonut for 1 mile: 12\n",
            "Flight price (RUP) = 1,411.76\n",
            "Flight price (DOLLAR) = 10.43\n",
            "Flight price (EUR) = 9.23\n"
          ]
        }
      ]
    },
    {
      "cell_type": "markdown",
      "source": [
        "##Bài 3: Points\n",
        "\n",
        "Cho 3 điểm A(x1, y1), B(x2, y2), C(x3, y3) trong mặt phẳng tọa độ XOY. Người ta \n",
        "muốn xác định xem điểm nào là điểm gần tâm O nhất, điểm nào là điểm xa tâm O \n",
        "nhất, tính theo khoảng cách Euclidien. \n",
        "\n",
        " Viết chương trình cho phép nhập vào ba điểm A, B, C như trên. Cho biết điểm \n",
        "gần tâm O nhất trong ba điểm. Tương tự cho biết điểm xa tâm O nhất. Cho biết diện \n",
        "tích của tam giác ABC. \n",
        "\n"
      ],
      "metadata": {
        "id": "oQLxrMzEdBTc"
      }
    },
    {
      "cell_type": "markdown",
      "source": [
        "* coordinates: tọa độ \n",
        "* Absccissa: hoành độ \n",
        "* Ordinate: tung độ \n",
        "* circumference: chu vi "
      ],
      "metadata": {
        "id": "z65PLfnGJ1Zm"
      }
    },
    {
      "cell_type": "code",
      "source": [
        "def compute_distance(x1, y1, x2, y2):\n",
        "  return ((x1 - x2)**2 + (y1 - y2)**2)**(1/2)\n",
        "\n",
        "def input_coordinates():\n",
        "  x = float(input('Absccissa: '))\n",
        "  y = float(input('Ordinate: '))\n",
        "  return x, y\n",
        "\n",
        "def compute_distance_to_center(OA, OB, OC):\n",
        "  dis_min = min(OA, min(OB, OC))\n",
        "  print('dis_min = %.2f' %dis_min)\n",
        "  if OA == dis_min:\n",
        "    print('A is the nearst center')\n",
        "  if OB == dis_min:\n",
        "    print('A is the nearst center')\n",
        "  if OC == dis_min:\n",
        "    print('A is the nearst center')\n",
        "\n",
        "  dis_max = max(OA, max(OB, OC))\n",
        "  print('dis_max = %.2f' %dis_max)\n",
        "  if OA == dis_max:\n",
        "    print('A is the farthest center')\n",
        "  if OB == dis_max:\n",
        "    print('A is the farthest center')\n",
        "  if OC == dis_max:\n",
        "    print('A is the farthest center')\n",
        "\n",
        "def compute_triangle_area(AB, AC, BC):\n",
        "  if AB + AC <= BC or AB + BC <= AC or BC + AC <= AB:\n",
        "    print('ABC does not a triangle')\n",
        "  else:\n",
        "    half_p = (AB + AC + BC)/2\n",
        "    area = ((half_p) * (half_p - AB) * (half_p - AC) * (half_p - BC))**(1/2)\n",
        "    print('S(ABC) = %.2f' %area)\n",
        "\n",
        "if __name__ == '__main__':\n",
        "  print('Input A\\'s coordinates')\n",
        "  xA, yA  = input_coordinates()\n",
        "  print('Input B\\'s coordinates')\n",
        "  xB, yB  = input_coordinates()\n",
        "  print('Input C\\'s coordinates')\n",
        "  xC, yC  = input_coordinates()\n",
        "\n",
        "  print()\n",
        "\n",
        "  OA = compute_distance(xA, yA, 0, 0)\n",
        "  OB = compute_distance(xB, yB, 0, 0)\n",
        "  OC = compute_distance(xC, yC, 0, 0)\n",
        "\n",
        "  compute_distance_to_center(OA, OB, OC)\n",
        "  print()\n",
        "\n",
        "  AB = compute_distance(xA, yA, xB, yB)\n",
        "  AC = compute_distance(xA, yA, xC, yC)\n",
        "  BC = compute_distance(xB, yB, xC, yC)\n",
        "\n",
        "  compute_triangle_area(AB, AC, BC)\n",
        "\n",
        "  \n"
      ],
      "metadata": {
        "id": "CLYZrjY1bBw-",
        "colab": {
          "base_uri": "https://localhost:8080/"
        },
        "outputId": "7a6766e5-c0f2-4ca0-cc58-8f53ee7ddaf1"
      },
      "execution_count": 37,
      "outputs": [
        {
          "output_type": "stream",
          "name": "stdout",
          "text": [
            "Input A's coordinates\n",
            "Absccissa: 1\n",
            "Ordinate: 1\n",
            "Input B's coordinates\n",
            "Absccissa: 2\n",
            "Ordinate: 2\n",
            "Input C's coordinates\n",
            "Absccissa: 3\n",
            "Ordinate: 3\n",
            "\n",
            "dis_min = 1.41\n",
            "A is the nearst center\n",
            "dis_max = 4.24\n",
            "A is the farthest center\n",
            "\n",
            "ABC does not a triangle\n"
          ]
        }
      ]
    },
    {
      "cell_type": "markdown",
      "source": [
        "##Bài 4: Vector\n",
        "\n",
        "Một véc tơ trong không gian ba chiều có dạng X (x1, x2, x3) với ba thành phần tọa độ \n",
        "là số thực. Hãy tổ tạo một package trong đó có hai sub-pack. Mỗi sub-pack chứa một \n",
        "module như sau: \n",
        "- Module 1: Chứa các hàm tính toán trên vec tơ như: Cộng hai véc tơ (cộng các \n",
        "tọa độ tương ứng), trừ hai véc tơ, tính khoảng cách OX, lấy đối xứng qua gốc \n",
        "tọa độ X’ = (-x1, -x2, -x3). \n",
        "- Module 2: Chứa các hàm thực hiện: Nhập ba tọa độ của một véc tơ từ bàn \n",
        "phím; hiển thị véc tơ ra màn hình dạng X(x1, x2, x3). \n",
        "Viết chương trình để sử dụng package vừa tạo. "
      ],
      "metadata": {
        "id": "ZejvQimkMI-1"
      }
    },
    {
      "cell_type": "markdown",
      "source": [
        "* add: cộng\n",
        "* sub: trừ\n",
        "* mul: nhân\n",
        "* div: chia\n",
        "- symmetry: đối xứng"
      ],
      "metadata": {
        "id": "OK5ej178MgSd"
      }
    },
    {
      "cell_type": "code",
      "source": [
        "def add_vector(x1, x2, x3, y1, y2, y3):\n",
        "  return x1 + y1, x2 + y2, x3 + y3\n",
        "\n",
        "def sub_vector(x1, x2, x3, y1, y2, y3):\n",
        "  return x1 - y1, x2 - y2, x3 - y3\n",
        "\n",
        "def find_symmetry(x1, x2, x3):\n",
        "  return -x1, -x2, -x3\n",
        "\n",
        "def compute_distance_to_center(x1, x2, x3):\n",
        "  return (x1**2 + x2**2 + x3**2)**(1/2)\n",
        "\n",
        "def input_vector():\n",
        "  x1 = float(input('x = '))\n",
        "  x2 = float(input('y = '))\n",
        "  x3 = float(input('z = '))\n",
        "\n",
        "  return x1, x2, x3\n",
        "\n",
        "if __name__ == '__main__':\n",
        "  print('Input A\\'s coordinates')\n",
        "  x1, x2, x3 = input_vector()\n",
        "\n",
        "  print('A\\'s coordinates: ', x1, x2, x3)\n",
        "\n",
        "\n"
      ],
      "metadata": {
        "id": "b49rhXUYbBuI",
        "colab": {
          "base_uri": "https://localhost:8080/"
        },
        "outputId": "ce6237b4-b291-47fc-930c-da818a1eddbf"
      },
      "execution_count": 39,
      "outputs": [
        {
          "output_type": "stream",
          "name": "stdout",
          "text": [
            "Input A's coordinates\n",
            "x = 1\n",
            "y = 2\n",
            "z = 3\n",
            "A's coordinates:  1.0 2.0 3.0\n"
          ]
        }
      ]
    },
    {
      "cell_type": "code",
      "source": [],
      "metadata": {
        "id": "8uQujYvmbBrX"
      },
      "execution_count": null,
      "outputs": []
    },
    {
      "cell_type": "code",
      "source": [],
      "metadata": {
        "id": "Elf7Lh0-bBom"
      },
      "execution_count": null,
      "outputs": []
    },
    {
      "cell_type": "code",
      "source": [],
      "metadata": {
        "id": "9ib558GebBl_"
      },
      "execution_count": null,
      "outputs": []
    },
    {
      "cell_type": "code",
      "source": [],
      "metadata": {
        "id": "97tHQWM8bBjP"
      },
      "execution_count": null,
      "outputs": []
    },
    {
      "cell_type": "code",
      "source": [],
      "metadata": {
        "id": "mTe3vna9bBgx"
      },
      "execution_count": null,
      "outputs": []
    },
    {
      "cell_type": "code",
      "source": [],
      "metadata": {
        "id": "9k7wDdaqbBdw"
      },
      "execution_count": null,
      "outputs": []
    },
    {
      "cell_type": "code",
      "source": [],
      "metadata": {
        "id": "I43LKVx-bBbH"
      },
      "execution_count": null,
      "outputs": []
    },
    {
      "cell_type": "code",
      "source": [],
      "metadata": {
        "id": "3mtG_E2QbBYX"
      },
      "execution_count": null,
      "outputs": []
    }
  ]
}