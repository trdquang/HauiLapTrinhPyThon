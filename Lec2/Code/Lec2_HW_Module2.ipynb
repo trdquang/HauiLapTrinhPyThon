{
  "nbformat": 4,
  "nbformat_minor": 0,
  "metadata": {
    "colab": {
      "provenance": []
    },
    "kernelspec": {
      "name": "python3",
      "display_name": "Python 3"
    },
    "language_info": {
      "name": "python"
    }
  },
  "cells": [
    {
      "cell_type": "code",
      "execution_count": 2,
      "metadata": {
        "id": "PKkY1RLfrf6F"
      },
      "outputs": [],
      "source": [
        "def usd_to_vnd(n):\n",
        "  return n * 23000"
      ]
    },
    {
      "cell_type": "code",
      "source": [
        "def eur_to_vnd(n):\n",
        "  return n * 26000"
      ],
      "metadata": {
        "id": "LaV4hAk_rprN"
      },
      "execution_count": 3,
      "outputs": []
    },
    {
      "cell_type": "code",
      "source": [
        "def rub_to_vnd(n):\n",
        "  return n * 170"
      ],
      "metadata": {
        "id": "rm6iQ4zlrqll"
      },
      "execution_count": 4,
      "outputs": []
    },
    {
      "cell_type": "code",
      "source": [
        "def add2(num1, num2):\n",
        "  return num1 + num2"
      ],
      "metadata": {
        "id": "uTV781Hkrq_V"
      },
      "execution_count": 5,
      "outputs": []
    },
    {
      "cell_type": "code",
      "source": [
        "def add3(num1, num2, num3):\n",
        "  return num1 + num2 + num3"
      ],
      "metadata": {
        "id": "6J8UP66urrV9"
      },
      "execution_count": 1,
      "outputs": []
    }
  ]
}