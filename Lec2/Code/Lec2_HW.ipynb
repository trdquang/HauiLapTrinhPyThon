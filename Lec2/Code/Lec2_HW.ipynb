{
  "nbformat": 4,
  "nbformat_minor": 0,
  "metadata": {
    "colab": {
      "provenance": []
    },
    "kernelspec": {
      "name": "python3",
      "display_name": "Python 3"
    },
    "language_info": {
      "name": "python"
    }
  },
  "cells": [
    {
      "cell_type": "markdown",
      "source": [
        "######Bài 1: Tọa độ \n",
        "a, Viết hàm tính khoảng cách Euclidean giữa hai điểm A(x1, y1) và B(x2, y2). \n",
        "\n",
        "b, Viết hàm kiểm tra xem hai điểm A, B, điểm nào gần tâm O hơn.\n"
      ],
      "metadata": {
        "id": "Q3v6l9g4s0pB"
      }
    },
    {
      "cell_type": "code",
      "execution_count": 8,
      "metadata": {
        "colab": {
          "base_uri": "https://localhost:8080/"
        },
        "id": "MNxQTY5sYMdN",
        "outputId": "45793002-d531-490f-b4bc-fc40cca020a1"
      },
      "outputs": [
        {
          "output_type": "stream",
          "name": "stdout",
          "text": [
            "Nhập tọa độ cho A\n",
            "1 1 \n",
            "Nhập tọa độ cho B\n",
            "-1 -1\n",
            "Khoảng cách Euclid = 2.83\n",
            "Cả 2 gần tâm như nhau\n"
          ]
        }
      ],
      "source": [
        "import math\n",
        "\n",
        "def nhap():\n",
        "  print(\"Nhập tọa độ cho A\")\n",
        "  xA, yA = [float(x) for x in input().split()]\n",
        "  print(\"Nhập tọa độ cho B\")\n",
        "  xB, yB = [float(x) for x in input().split()]\n",
        "\n",
        "  return xA, yA, xB, yB\n",
        "\n",
        "def tinh_euclid(xA, yA, xB, yB):\n",
        "  return math.sqrt( pow( (xA - xB), 2) + pow((yA - yB), 2) )\n",
        "\n",
        "def ktra_gan_tam(xA, yA, xB, yB):\n",
        "  kc_a = tinh_euclid(xA, yA, 0, 0)\n",
        "  kc_b = tinh_euclid(xB, yB, 0, 0)\n",
        "\n",
        "  if kc_a < kc_b:\n",
        "    return 'A'\n",
        "  elif kc_a > kc_b:\n",
        "    return 'B'\n",
        "  else:\n",
        "    return 'both'\n",
        "\n",
        "if __name__ == '__main__':\n",
        "  xA, yA, xB, yB = nhap()\n",
        "  print(\"Khoảng cách Euclid = {:.2f}\".format(tinh_euclid(xA, yA, xB, yB)))\n",
        "  res = ktra_gan_tam(xA, yA, xB, yB)\n",
        "  if res == 'both':\n",
        "    print('Cả 2 gần tâm như nhau')\n",
        "  else:\n",
        "    print(res, 'gần tâm hơn')\n"
      ]
    },
    {
      "cell_type": "markdown",
      "source": [
        "######Bài 2: Đổi tiền \n",
        "Hãy tổ chức môt chương trình bằng các module sau: \n",
        "\n",
        "**Module 1**: Định nghĩa tỷ giá: USD = 23000, EUR = 26000, RUB = 170 \n",
        "\n",
        "**Module 2**: Các hàm quy đổi n USD/ EUR/ RUB ra VND (ba hàm) \n",
        "Định nghĩa các hàm cộng ba số thực, cộng hai số thực \n",
        "\n",
        "**Chương trình chính:**\n",
        " \n",
        "\n",
        "Nhập vào số tiền USD, EUR, RUB hiện có;\n",
        "\n",
        "In ra tổng số tiền VND sau quy đổi.\n"
      ],
      "metadata": {
        "id": "9A4jLgyOiAcs"
      }
    },
    {
      "cell_type": "code",
      "source": [
        "!pip install import_ipynb\n",
        "import import_ipynb\n"
      ],
      "metadata": {
        "id": "QGCu24pWhVWy"
      },
      "execution_count": null,
      "outputs": []
    },
    {
      "cell_type": "code",
      "source": [
        "from Lec2_HW_Module1 import *\n",
        "from Lec2_HW_Module2 import *"
      ],
      "metadata": {
        "id": "Lm4qZAcKgV5z"
      },
      "execution_count": 7,
      "outputs": []
    },
    {
      "cell_type": "code",
      "source": [
        "usd_mn = float(input(\"Nhập số usd hiện có: \"))\n",
        "eur_mn = float(input(\"Nhập số eur hiện có: \"))\n",
        "rub_mn = float(input(\"Nhập số rub hiện có: \"))\n",
        "\n",
        "sum = add3(usd_mn * USD, eur_mn * EUR, rub_mn * RUB)\n",
        "print(\"Tổng số tiền hiện có = {:,.2f} VND\".format(sum))"
      ],
      "metadata": {
        "colab": {
          "base_uri": "https://localhost:8080/"
        },
        "id": "he65fqUZYP8f",
        "outputId": "82fc2d95-0493-4901-d197-299a9f9ddb91"
      },
      "execution_count": 11,
      "outputs": [
        {
          "output_type": "stream",
          "name": "stdout",
          "text": [
            "Nhập số usd hiện có: 3.22\n",
            "Nhập số eur hiện có: 34.2\n",
            "Nhập số rub hiện có: 2030\n",
            "Tổng số tiền hiện có = 1,308,360.00 VND\n"
          ]
        }
      ]
    },
    {
      "cell_type": "code",
      "source": [],
      "metadata": {
        "id": "Hs9ZM0AGYP5d"
      },
      "execution_count": null,
      "outputs": []
    },
    {
      "cell_type": "code",
      "source": [],
      "metadata": {
        "id": "sfnGUGfYYP2g"
      },
      "execution_count": null,
      "outputs": []
    },
    {
      "cell_type": "code",
      "source": [],
      "metadata": {
        "id": "XiP0jvtZYPzt"
      },
      "execution_count": null,
      "outputs": []
    },
    {
      "cell_type": "code",
      "source": [],
      "metadata": {
        "id": "FhUet45DYPwv"
      },
      "execution_count": null,
      "outputs": []
    },
    {
      "cell_type": "code",
      "source": [],
      "metadata": {
        "id": "vYLmBiq8YPuQ"
      },
      "execution_count": null,
      "outputs": []
    },
    {
      "cell_type": "code",
      "source": [],
      "metadata": {
        "id": "6x1NfKHEYPrm"
      },
      "execution_count": null,
      "outputs": []
    },
    {
      "cell_type": "code",
      "source": [],
      "metadata": {
        "id": "Tv6f2eBtYPpQ"
      },
      "execution_count": null,
      "outputs": []
    },
    {
      "cell_type": "code",
      "source": [],
      "metadata": {
        "id": "e5W8qSV5YPmV"
      },
      "execution_count": null,
      "outputs": []
    },
    {
      "cell_type": "code",
      "source": [],
      "metadata": {
        "id": "IkJHyD9JYPjf"
      },
      "execution_count": null,
      "outputs": []
    },
    {
      "cell_type": "code",
      "source": [],
      "metadata": {
        "id": "vlw8AFC8YPg2"
      },
      "execution_count": null,
      "outputs": []
    }
  ]
}