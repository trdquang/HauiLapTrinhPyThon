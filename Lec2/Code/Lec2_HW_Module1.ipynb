{
  "nbformat": 4,
  "nbformat_minor": 0,
  "metadata": {
    "colab": {
      "provenance": []
    },
    "kernelspec": {
      "name": "python3",
      "display_name": "Python 3"
    },
    "language_info": {
      "name": "python"
    }
  },
  "cells": [
    {
      "cell_type": "code",
      "source": [
        "USD = 23000"
      ],
      "metadata": {
        "id": "aHvrRyDhps9h"
      },
      "execution_count": 12,
      "outputs": []
    },
    {
      "cell_type": "code",
      "source": [
        "EUR = 26000"
      ],
      "metadata": {
        "id": "19cQokZepv0Y"
      },
      "execution_count": 13,
      "outputs": []
    },
    {
      "cell_type": "code",
      "source": [
        "RUB = 170"
      ],
      "metadata": {
        "id": "gEmrKCVqpyQh"
      },
      "execution_count": 14,
      "outputs": []
    }
  ]
}