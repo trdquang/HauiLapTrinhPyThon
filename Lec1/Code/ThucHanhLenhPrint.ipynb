{
  "nbformat": 4,
  "nbformat_minor": 0,
  "metadata": {
    "colab": {
      "provenance": [],
      "toc_visible": true
    },
    "kernelspec": {
      "name": "python3",
      "display_name": "Python 3"
    },
    "language_info": {
      "name": "python"
    }
  },
  "cells": [
    {
      "cell_type": "markdown",
      "source": [
        "####Một số ví dụ với print"
      ],
      "metadata": {
        "id": "pgugpKbBD9ie"
      }
    },
    {
      "cell_type": "markdown",
      "source": [
        "######1.Định dạng cơ bản"
      ],
      "metadata": {
        "id": "JCcUAFJLJvFA"
      }
    },
    {
      "cell_type": "code",
      "execution_count": 1,
      "metadata": {
        "colab": {
          "base_uri": "https://localhost:8080/"
        },
        "id": "iUwtWiO1D4BZ",
        "outputId": "c66dd2e2-4775-4a15-c7ee-80647da1eb69"
      },
      "outputs": [
        {
          "output_type": "stream",
          "name": "stdout",
          "text": [
            "Hello Adam, your balance is 230.2346.\n",
            "Hello Adam, your balance is 230.2346.\n",
            "Hello Adam, your balance is 230.2346.\n",
            "Hello Adam, your balance is 230.2346.\n"
          ]
        }
      ],
      "source": [
        "# default arguments\n",
        "print(\"Hello {}, your balance is {}.\".format(\"Adam\", 230.2346))\n",
        "\n",
        "# positional arguments\n",
        "print(\"Hello {0}, your balance is {1}.\".format(\"Adam\", 230.2346))\n",
        "\n",
        "# keyword arguments\n",
        "print(\"Hello {name}, your balance is {blc}.\".format(name=\"Adam\", blc=230.2346))\n",
        "\n",
        "# mixed arguments\n",
        "print(\"Hello {0}, your balance is {blc}.\".format(\"Adam\", blc=230.2346))"
      ]
    },
    {
      "cell_type": "markdown",
      "source": [
        "######2.Định dạng số đơn giản"
      ],
      "metadata": {
        "id": "tR94VRuIJ6Gh"
      }
    },
    {
      "cell_type": "code",
      "source": [
        "# integer arguments\n",
        "print(\"The number is:{:d}\".format(123))\n",
        "\n",
        "# float arguments\n",
        "# Định dạng f sẽ lấy 6 chữ số thập phân \n",
        "print(\"The float number is:{:f}\".format(123.4567898))\n",
        "\n",
        "# octal, binary and hexadecimal format\n",
        "print(\"bin: {0:b}, oct: {0:o}, hex: {0:x}\".format(12))"
      ],
      "metadata": {
        "colab": {
          "base_uri": "https://localhost:8080/"
        },
        "id": "7b8ofY7nJ50L",
        "outputId": "c4c73d80-b0e3-4830-ca88-d53857760394"
      },
      "execution_count": 2,
      "outputs": [
        {
          "output_type": "stream",
          "name": "stdout",
          "text": [
            "The number is:123\n",
            "The float number is:123.456790\n",
            "bin: 1100, oct: 14, hex: c\n"
          ]
        }
      ]
    },
    {
      "cell_type": "markdown",
      "source": [
        "######3.Định dạng có quy cách "
      ],
      "metadata": {
        "id": "TAd0QtChKMYF"
      }
    },
    {
      "cell_type": "code",
      "source": [
        "# giới hạn 5 chữ số nguyên \n",
        "print(\"{:5d}\".format(12))\n",
        "\n",
        "# định dạng số nguyên nhỏ hơn giá trị thực của nó, dẫn đến việc định dạng vô nghĩa\n",
        "print(\"{:2d}\".format(1234))\n",
        "\n",
        "# lấy 8 ký tự (tính cả dâu .), trong đó phần thực chiếm 3 ký tự \n",
        "print(\"{:8.3f}\".format(12.2346))\n",
        "\n",
        "# integer numbers with minimum width filled with zeros\n",
        "print(\"{:05d}\".format(12))\n",
        "\n",
        "# padding for float numbers filled with zeros\n",
        "print(\"{:08.3f}\".format(12.2346))"
      ],
      "metadata": {
        "colab": {
          "base_uri": "https://localhost:8080/"
        },
        "id": "gcuPgt46J5xZ",
        "outputId": "b4089997-75c8-4570-ab3d-65dc30c5ee1e"
      },
      "execution_count": 4,
      "outputs": [
        {
          "output_type": "stream",
          "name": "stdout",
          "text": [
            "   12\n",
            "1234\n",
            "  12.235\n",
            "00012\n",
            "0012.235\n"
          ]
        }
      ]
    },
    {
      "cell_type": "markdown",
      "source": [
        "######4.Định dạng số có dấu "
      ],
      "metadata": {
        "id": "TNDoDWApKvdX"
      }
    },
    {
      "cell_type": "code",
      "source": [
        "# show the + sign\n",
        "print(\"{:+f} {:+f}\".format(12.23, -12.23))\n",
        "\n",
        "# show the - sign only\n",
        "print(\"{:-f} {:-f}\".format(12.23, -12.23))\n",
        "\n",
        "# show space for + sign\n",
        "print(\"{: f} {: f}\".format(12.23, -12.23))"
      ],
      "metadata": {
        "colab": {
          "base_uri": "https://localhost:8080/"
        },
        "id": "dmnjXwy3J5ui",
        "outputId": "7e88afd1-8f5b-4d08-8518-e418d3dc570c"
      },
      "execution_count": 5,
      "outputs": [
        {
          "output_type": "stream",
          "name": "stdout",
          "text": [
            "+12.230000 -12.230000\n",
            "12.230000 -12.230000\n",
            " 12.230000 -12.230000\n"
          ]
        }
      ]
    },
    {
      "cell_type": "markdown",
      "source": [
        "######5.Định dạng có căn chỉnh"
      ],
      "metadata": {
        "id": "no0U81vqK2qX"
      }
    },
    {
      "cell_type": "code",
      "source": [
        "# integer numbers with right alignment\n",
        "print(\"{:5d}\".format(12))\n",
        "\n",
        "# float numbers with center alignment\n",
        "print(\"{:^10.3f}\".format(12.2346))\n",
        "\n",
        "# integer left alignment filled with zeros\n",
        "print(\"{:<05d}\".format(12))\n",
        "\n",
        "# float numbers with center alignment\n",
        "print(\"{:=8.3f}\".format(-12.2346))"
      ],
      "metadata": {
        "colab": {
          "base_uri": "https://localhost:8080/"
        },
        "id": "F1ITGB4aJ5rh",
        "outputId": "3a1a2af8-7635-440d-d557-a577f7065a73"
      },
      "execution_count": 6,
      "outputs": [
        {
          "output_type": "stream",
          "name": "stdout",
          "text": [
            "   12\n",
            "  12.235  \n",
            "12000\n",
            "- 12.235\n"
          ]
        }
      ]
    },
    {
      "cell_type": "markdown",
      "source": [
        "######6.Định dạng có căn chỉnh với chuỗi"
      ],
      "metadata": {
        "id": "0UKRDwcOK-1x"
      }
    },
    {
      "cell_type": "code",
      "source": [
        "# string padding with left alignment\n",
        "print(\"{:5}\".format(\"cat\"))\n",
        "\n",
        "# string padding with right alignment\n",
        "print(\"{:>5}\".format(\"cat\"))\n",
        "\n",
        "# string padding with center alignment\n",
        "print(\"{:^5}\".format(\"cat\"))\n",
        "\n",
        "# string padding with center alignment\n",
        "# and '*' padding character\n",
        "print(\"{:*^5}\".format(\"cat\"))"
      ],
      "metadata": {
        "colab": {
          "base_uri": "https://localhost:8080/"
        },
        "id": "JHexddOvJ5oR",
        "outputId": "4a88dbe0-6c59-4caa-8448-f875262cdba9"
      },
      "execution_count": 7,
      "outputs": [
        {
          "output_type": "stream",
          "name": "stdout",
          "text": [
            "cat  \n",
            "  cat\n",
            " cat \n",
            "*cat*\n"
          ]
        }
      ]
    },
    {
      "cell_type": "markdown",
      "source": [
        "######7.Định dạng cho một đối tượng"
      ],
      "metadata": {
        "id": "XJw_Gw33LOGK"
      }
    },
    {
      "cell_type": "code",
      "source": [
        "# define Person class\n",
        "class Person:\n",
        "    age = 23\n",
        "    name = \"Adam\"\n",
        "\n",
        "# format age\n",
        "print(\"{p.name}'s age is: {p.age}\".format(p=Person()))"
      ],
      "metadata": {
        "colab": {
          "base_uri": "https://localhost:8080/"
        },
        "id": "R78ohICRJ5lb",
        "outputId": "39405565-5286-47bb-9da9-530aeb6cdbe6"
      },
      "execution_count": 12,
      "outputs": [
        {
          "output_type": "stream",
          "name": "stdout",
          "text": [
            "Adam's age is: 23\n"
          ]
        }
      ]
    },
    {
      "cell_type": "markdown",
      "source": [
        "######8.Định dạng 1 dictionary"
      ],
      "metadata": {
        "id": "JQ5eXq95LcqU"
      }
    },
    {
      "cell_type": "code",
      "source": [
        "# define Person dictionary\n",
        "person = {'age': 23, 'name': 'Adam'}\n",
        "\n",
        "# format age\n",
        "print(\"{p[name]}'s age is: {p[age]}\".format(p=person))"
      ],
      "metadata": {
        "colab": {
          "base_uri": "https://localhost:8080/"
        },
        "id": "KMEQalBAJ5iR",
        "outputId": "2dec1776-66c7-4e15-96de-973ed0793fd8"
      },
      "execution_count": 14,
      "outputs": [
        {
          "output_type": "stream",
          "name": "stdout",
          "text": [
            "Adam's age is: 23\n"
          ]
        }
      ]
    },
    {
      "cell_type": "code",
      "source": [
        "# define Person dictionary\n",
        "# Sử dụng cấu trúc format(**mapping)\n",
        "# ** ở đây được hiểu là có 2 trường dữ liệu trong dic, là key và value\n",
        "person = {'age': 23, 'name': 'Adam'}\n",
        "\n",
        "# format age\n",
        "print(\"{name}'s age is: {age}, {age}\".format(**person))"
      ],
      "metadata": {
        "colab": {
          "base_uri": "https://localhost:8080/"
        },
        "id": "UHQeKuQ2J5fR",
        "outputId": "1ba1e71c-dcf3-4b37-d5a1-d21bf82da68b"
      },
      "execution_count": 25,
      "outputs": [
        {
          "output_type": "stream",
          "name": "stdout",
          "text": [
            "Adam's age is: 23, 23\n"
          ]
        }
      ]
    },
    {
      "cell_type": "markdown",
      "source": [
        "######9.Đối số dưới dạng format"
      ],
      "metadata": {
        "id": "D6A9TjDoM4Wu"
      }
    },
    {
      "cell_type": "code",
      "source": [
        "# dynamic string format template\n",
        "string = \"{:{fill}{align}{width}}\"\n",
        "\n",
        "# passing format codes as arguments\n",
        "print(string.format('cat', fill='*', align='^', width=5))\n",
        "\n",
        "# dynamic float format template\n",
        "num = \"{:{align}{width}.{precision}f}\"\n",
        "\n",
        "# passing format codes as arguments\n",
        "print(num.format(123.236, align='<', width=8, precision=2))"
      ],
      "metadata": {
        "colab": {
          "base_uri": "https://localhost:8080/"
        },
        "id": "r210tT20J5ch",
        "outputId": "e1b6fd75-0351-4b47-c9b6-d92e43e77509"
      },
      "execution_count": 26,
      "outputs": [
        {
          "output_type": "stream",
          "name": "stdout",
          "text": [
            "*cat*\n",
            "123.24  \n"
          ]
        }
      ]
    },
    {
      "cell_type": "markdown",
      "source": [
        "######10.Định dạng date time"
      ],
      "metadata": {
        "id": "_Ug501TTNBNm"
      }
    },
    {
      "cell_type": "code",
      "source": [
        "import datetime\n",
        "# datetime formatting\n",
        "date = datetime.datetime.now()\n",
        "print(\"It's now: {:%Y/%m/%d %H:%M:%S}\".format(date))\n",
        "\n",
        "# complex number formatting\n",
        "complexNumber = 1+2j\n",
        "print(\"Real part: {0.real} and Imaginary part: {0.imag}\".format(complexNumber))\n",
        "\n",
        "# custom __format__() method\n",
        "class Person:\n",
        "    def __format__(self, format):\n",
        "        if(format == 'age'):\n",
        "            return '23'\n",
        "        return 'None'\n",
        "\n",
        "print(\"Adam's age is: {:age}\".format(Person()))"
      ],
      "metadata": {
        "colab": {
          "base_uri": "https://localhost:8080/"
        },
        "id": "wkbi7KzYJ5Zh",
        "outputId": "5d108a14-5045-4a71-e766-92da49102de2"
      },
      "execution_count": 29,
      "outputs": [
        {
          "output_type": "stream",
          "name": "stdout",
          "text": [
            "It's now: 2023/02/27 14:09:23\n",
            "Real part: 1.0 and Imaginary part: 2.0\n",
            "Adam's age is: 23\n"
          ]
        }
      ]
    },
    {
      "cell_type": "markdown",
      "source": [
        "######10. __str()__ và __repr()__ viết tắt !r và !s sử dụng format()"
      ],
      "metadata": {
        "id": "eFIzqaejNfsK"
      }
    },
    {
      "cell_type": "code",
      "source": [
        "# __str__() and __repr__() shorthand !r and !s\n",
        "print(\"Quotes: {0!r}, Without Quotes: {0!s}\".format(\"cat\"))\n",
        "\n",
        "# __str__() and __repr__() implementation for class\n",
        "class Person:\n",
        "    def __str__(self):\n",
        "        return \"STR\"\n",
        "    def __repr__(self):\n",
        "        return \"REPR\"\n",
        "\n",
        "print(\"repr: {p!r}, str: {p!s}\".format(p=Person()))"
      ],
      "metadata": {
        "colab": {
          "base_uri": "https://localhost:8080/"
        },
        "id": "5t0y7nQ_J5Wj",
        "outputId": "f4c1722b-8735-476c-ddb2-60abad3d30a2"
      },
      "execution_count": 30,
      "outputs": [
        {
          "output_type": "stream",
          "name": "stdout",
          "text": [
            "Quotes: 'cat', Without Quotes: cat\n",
            "repr: REPR, str: STR\n"
          ]
        }
      ]
    },
    {
      "cell_type": "code",
      "source": [],
      "metadata": {
        "id": "2fDZxA93J5Tp"
      },
      "execution_count": null,
      "outputs": []
    },
    {
      "cell_type": "code",
      "source": [],
      "metadata": {
        "id": "JFpPYmhiJ5Qy"
      },
      "execution_count": null,
      "outputs": []
    },
    {
      "cell_type": "code",
      "source": [],
      "metadata": {
        "id": "jRLho4yzJ5N5"
      },
      "execution_count": null,
      "outputs": []
    },
    {
      "cell_type": "code",
      "source": [],
      "metadata": {
        "id": "MZvd423iJ5LJ"
      },
      "execution_count": null,
      "outputs": []
    },
    {
      "cell_type": "code",
      "source": [],
      "metadata": {
        "id": "4ByrZYOiJ5H5"
      },
      "execution_count": null,
      "outputs": []
    }
  ]
}