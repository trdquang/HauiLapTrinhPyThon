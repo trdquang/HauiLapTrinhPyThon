{
  "nbformat": 4,
  "nbformat_minor": 0,
  "metadata": {
    "colab": {
      "provenance": [],
      "toc_visible": true
    },
    "kernelspec": {
      "name": "python3",
      "display_name": "Python 3"
    },
    "language_info": {
      "name": "python"
    }
  },
  "cells": [
    {
      "cell_type": "markdown",
      "source": [
        "######Bài 1: Lệnh print\n",
        "Nhập vào từ bàn phím hai số nguyên a, b. Tính và in ra màn hình tổng, hiệu, tích, thương của a và b với mỗi kết quả in trên 1 dòng; kết quả của thương là số thực có độ chính xác 3 chữ số hàng thập phân.\n"
      ],
      "metadata": {
        "id": "IPd3uba1PdOG"
      }
    },
    {
      "cell_type": "code",
      "execution_count": 36,
      "metadata": {
        "id": "r2russ2nPSX2",
        "colab": {
          "base_uri": "https://localhost:8080/"
        },
        "outputId": "fef382ab-9df4-429b-d0b2-a6ea79dec9b3"
      },
      "outputs": [
        {
          "output_type": "stream",
          "name": "stdout",
          "text": [
            "a = 2\n",
            "b = 0\n",
            "2.000 + 0.000 = 2.000\n",
            "2.000 - 0.000 = 2.000\n",
            "2.000 * 0.000 = 0.000\n",
            "Err div 0\n"
          ]
        }
      ],
      "source": [
        "# Cach 1\n",
        "\n",
        "a = float(input(\"a = \"))\n",
        "b = float(input(\"b = \"))\n",
        "\n",
        "print(\"{:.3f} + {:.3f} = {:.3f}\".format(a, b, a + b))\n",
        "print(\"{:.3f} - {:.3f} = {:.3f}\".format(a, b, a - b))\n",
        "print(\"{:.3f} * {:.3f} = {:.3f}\".format(a, b, a * b))\n",
        "if b == 0:\n",
        "  print(\"Err div 0\")\n",
        "else:\n",
        "  print(\"{:.3f} / {:.3f} = {:.3f}\".format(a, b, a/b))"
      ]
    },
    {
      "cell_type": "markdown",
      "source": [
        "######Bài 2: Khoảng cách Euclid\n",
        "Nhập vào tọa độ của hai điểm A(x1, y1) và B(x2, y2). Tính và in ra khoảng \n",
        "cách Euclidean giữa A và B theo công thức:\n",
        "\n",
        "d(A, B)   ![image.png](data:image/png;base64,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)\n"
      ],
      "metadata": {
        "id": "O7ns7MrpP-A0"
      }
    },
    {
      "cell_type": "code",
      "source": [
        "import math\n",
        "\n",
        "xA = float(input(\"xA = \"))\n",
        "yA = float(input(\"yA = \"))\n",
        "xB = float(input(\"xB = \"))\n",
        "yB = float(input(\"yB = \"))\n",
        "\n",
        "euclid = math.sqrt( pow((xA - xB), 2) + pow((yA - yB), 2) )\n",
        "print(\"Euclid = {:.3f}\".format(euclid))"
      ],
      "metadata": {
        "id": "RxQTT_EHS_s3",
        "colab": {
          "base_uri": "https://localhost:8080/"
        },
        "outputId": "40baa9e0-e432-4544-b036-5b1a72c5d384"
      },
      "execution_count": 45,
      "outputs": [
        {
          "output_type": "stream",
          "name": "stdout",
          "text": [
            "xA = 1\n",
            "yA = 1\n",
            "xB = 2\n",
            "yB = 2\n",
            "Euclid = 1.414\n"
          ]
        }
      ]
    },
    {
      "cell_type": "markdown",
      "source": [
        "######Bài 3: Giải pt bậc 2\n",
        "Giải phương trình bậc 2 với các hệ số a, b, c nhập từ bàn phím"
      ],
      "metadata": {
        "id": "EbVS3JOlR4Ph"
      }
    },
    {
      "cell_type": "code",
      "source": [
        "import math\n",
        "\n",
        "print(\"Nhập lần lượt hệ số a, b, c của phương trình\")\n",
        "a, b, c = [float(x) for x in input().split()]\n",
        "print(\"Giải phương trình {:.2f}x^2 + {:.2f}x + {:.2f} = 0\".format(a, b, c))\n",
        "\n",
        "if a == 0:\n",
        "  if b == 0:\n",
        "    if c == 0:\n",
        "      print(\"Phương trình vô số nghiệm\")\n",
        "    else:\n",
        "      print(\"Phương trình vô nghiệm\")\n",
        "  else:\n",
        "    print(\"Phương trình có nghiệm duy nhất x = {:.2f}\".format(-c/b))\n",
        "else:\n",
        "  delta = b*b - 4 * a*c\n",
        "  if delta < 0:\n",
        "    print(\"Phương trình vô nghiệm\")\n",
        "  elif delta == 0:\n",
        "    print(\"Phương trình có nghiệm kép x = {:.2f}\".format(-b/2/a))\n",
        "  else:\n",
        "    x1 = (-b-math.sqrt(delta))/2/a\n",
        "    x2 = (-b+math.sqrt(delta))/2/a\n",
        "    print(\"Phương trình có 2 nghiệm phân biệt\")\n",
        "    print(\"x1 = {:.2f}\\tx2 = {:.2f}\".format(x1, x2))\n"
      ],
      "metadata": {
        "colab": {
          "base_uri": "https://localhost:8080/"
        },
        "id": "PvHRloO2R0cH",
        "outputId": "b157d318-6518-49c9-8338-404af6c60d9a"
      },
      "execution_count": 69,
      "outputs": [
        {
          "output_type": "stream",
          "name": "stdout",
          "text": [
            "Nhập lần lượt hệ số a, b, c của phương trình\n",
            "3 4 -5\n",
            "Giải phương trình 3.00x^2 + 4.00x + -5.00 = 0\n",
            "Phương trình có 2 nghiệm phân biệt\n",
            "x1 = -2.12\tx2 = 0.79\n"
          ]
        }
      ]
    },
    {
      "cell_type": "markdown",
      "source": [
        "######Bài 4: Tính biểu thức\n",
        "Nhập vào một số nguyên n cho tới khi n thuộc  [20, 30], nhập vào số thực x. \n",
        "Tính và in ra:\n",
        "![image.png](data:image/png;base64,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)"
      ],
      "metadata": {
        "id": "zzFmsNkaU78k"
      }
    },
    {
      "cell_type": "code",
      "source": [
        "n = 0\n",
        "while True:\n",
        "  n = int(input(\"n = \"))\n",
        "  if n >= 20 and n <= 30:\n",
        "    break\n",
        "x = float(input(\"x = \"))\n",
        "res = 2022 * pow(x, n)\n",
        "for i in range(n + 1):\n",
        "  res += i/pow(x, i)\n",
        "print(\"P({},{:.2f}) = {:.2f}\".format(n, x, res) )"
      ],
      "metadata": {
        "id": "IAjyJM3HS_qG",
        "colab": {
          "base_uri": "https://localhost:8080/"
        },
        "outputId": "e08c9d86-a4de-480d-ab62-304cf7f63ddf"
      },
      "execution_count": 86,
      "outputs": [
        {
          "output_type": "stream",
          "name": "stdout",
          "text": [
            "n = 21\n",
            "x = 2\n",
            "P(21,2.00) = 4240441346.00\n"
          ]
        }
      ]
    },
    {
      "cell_type": "markdown",
      "source": [
        "######Bài 5: Số nguyên tố\n",
        "Nhập vào 1 số nguyên dương n. Kiểm tra n xem có phải số nguyên tố không"
      ],
      "metadata": {
        "id": "nXTjbMXPXPA8"
      }
    },
    {
      "cell_type": "code",
      "source": [
        "def nhap():\n",
        "  n = 0\n",
        "  while True:\n",
        "    n = int(input(\"n = \"))\n",
        "    if n > 0:\n",
        "      break\n",
        "    else:\n",
        "      print(\"Giá trị nhập không hợp lệ. Nhập lại\")\n",
        "  \n",
        "  return n\n",
        "  \n",
        "def ktra_nguyen_to(n):\n",
        "  for i in range(2, int(math.sqrt(n)) + 1):\n",
        "    if n % i == 0:\n",
        "      return 0\n",
        "  return n > 1\n",
        "\n",
        "if __name__ == \"__main__\":\n",
        "  n = nhap()\n",
        "  check = ktra_nguyen_to(n)\n",
        "  if check == 0:\n",
        "    print(\"{} khong la so nguyen to\".format(n))\n",
        "  else:\n",
        "    print(\"{} la so nguyen to\".format(n))"
      ],
      "metadata": {
        "id": "3RUsHIatS_hu",
        "colab": {
          "base_uri": "https://localhost:8080/"
        },
        "outputId": "6f13c03f-c012-4721-af5c-2844194d3c2b"
      },
      "execution_count": 100,
      "outputs": [
        {
          "output_type": "stream",
          "name": "stdout",
          "text": [
            "n = -5\n",
            "Giá trị nhập không hợp lệ. Nhập lại\n",
            "n = 5\n",
            "5 la so nguyen to\n"
          ]
        }
      ]
    },
    {
      "cell_type": "markdown",
      "source": [
        "######Bài 6:Tìm số thỏa mãn\n",
        "Nhập vào một số nguyên n thuộc [100, 200]. Nếu dữ liệu nhập vào \n",
        "không  thỏa mãn điều kiện đó, cho phép nhập lại cho tới khi thỏa mãn.\n",
        "Tìm một số nguyên dương là lũy thừa của 2, bé nhất, mà lớn hơn n\n"
      ],
      "metadata": {
        "id": "A7aFGuNnZI2J"
      }
    },
    {
      "cell_type": "code",
      "source": [
        "import math\n",
        "\n",
        "n = 0\n",
        "while True:\n",
        "  n = int(input(\"n = \"))\n",
        "  if n >= 100 and n <= 200:\n",
        "    break\n",
        "  else:\n",
        "    print(\"Giá trị nhập không hợp lệ. Nhập lại\")\n",
        "\n",
        "x = int(math.log(n, 2) + 1)\n",
        "print(\"Số cần tìm = {:.2f}\".format(x))\n",
        "print(\"2^x = {:.2f}\".format(pow(2, x)))\n"
      ],
      "metadata": {
        "id": "9JZe2_cIS_e-",
        "colab": {
          "base_uri": "https://localhost:8080/"
        },
        "outputId": "74bf62a3-201d-47e1-f437-43108432a30e"
      },
      "execution_count": 119,
      "outputs": [
        {
          "output_type": "stream",
          "name": "stdout",
          "text": [
            "n = 127\n",
            "Số cần tìm = 7.00\n",
            "2^x = 128.00\n"
          ]
        }
      ]
    },
    {
      "cell_type": "code",
      "source": [],
      "metadata": {
        "id": "LTxOl-dRS_Wm"
      },
      "execution_count": null,
      "outputs": []
    },
    {
      "cell_type": "code",
      "source": [],
      "metadata": {
        "id": "uC08LbkTS_Tu"
      },
      "execution_count": null,
      "outputs": []
    },
    {
      "cell_type": "code",
      "source": [],
      "metadata": {
        "id": "7PAMcLo-S_Qv"
      },
      "execution_count": null,
      "outputs": []
    },
    {
      "cell_type": "markdown",
      "source": [],
      "metadata": {
        "id": "ZHjgM-87PaJW"
      }
    }
  ]
}