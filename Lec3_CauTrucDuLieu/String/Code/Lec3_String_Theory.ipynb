{
  "nbformat": 4,
  "nbformat_minor": 0,
  "metadata": {
    "colab": {
      "provenance": [],
      "toc_visible": true
    },
    "kernelspec": {
      "name": "python3",
      "display_name": "Python 3"
    },
    "language_info": {
      "name": "python"
    }
  },
  "cells": [
    {
      "cell_type": "markdown",
      "source": [
        "####1.Khởi tạo chuỗi"
      ],
      "metadata": {
        "id": "eHDqpTkmzUCd"
      }
    },
    {
      "cell_type": "code",
      "source": [
        "# Chuỗi Python có thể đặt trong 1 nháy đơn, 2 nháy đơn hoặc 3 nháy đơn\n",
        "text1 = 'Hello'\n",
        "text2 = \"Hello\"\n",
        "text3 = '''Hello'''\n",
        "print(\"text1: \", text1)\n",
        "print(\"text2: \", text2)\n",
        "print(\"text3: \", text3)"
      ],
      "metadata": {
        "colab": {
          "base_uri": "https://localhost:8080/"
        },
        "id": "tQXrHI2JzF4S",
        "outputId": "cc2a70f3-c7fd-4758-cbd0-c31a6ebe904a"
      },
      "execution_count": 2,
      "outputs": [
        {
          "output_type": "stream",
          "name": "stdout",
          "text": [
            "text1:  Hello\n",
            "text2:  Hello\n",
            "text3:  Hello\n"
          ]
        }
      ]
    },
    {
      "cell_type": "code",
      "source": [
        "# Viết chuỗi trên nhiều dòng (sử dụng 3 nháy đơn)\n",
        "text1 = '''i can do\n",
        "            it!!!'''\n",
        "print(\"text1: \", text1)"
      ],
      "metadata": {
        "colab": {
          "base_uri": "https://localhost:8080/"
        },
        "id": "bcAqZB4lz_qB",
        "outputId": "6b2caa8a-558e-4778-b7ac-fb8ac7d60fd0"
      },
      "execution_count": 6,
      "outputs": [
        {
          "output_type": "stream",
          "name": "stdout",
          "text": [
            "text1:  i can do\n",
            "            it!!!\n"
          ]
        }
      ]
    },
    {
      "cell_type": "code",
      "source": [
        "# Dùng dấu (xẹt trái + ký tự đặc biệt) để biểu diễn ký tự đặc biệt\n",
        "text = \"Chuỗi có ký tự \\\" và \\' đặc biệt\"\n",
        "print(text)"
      ],
      "metadata": {
        "colab": {
          "base_uri": "https://localhost:8080/"
        },
        "id": "VWWq248g0fj8",
        "outputId": "a694b0af-a17f-4103-8f23-000c21aea887"
      },
      "execution_count": 7,
      "outputs": [
        {
          "output_type": "stream",
          "name": "stdout",
          "text": [
            "Chuỗi có ký tự \" và ' đặc biệt\n"
          ]
        }
      ]
    },
    {
      "cell_type": "markdown",
      "source": [
        "####2.Thao tác trên chuỗi"
      ],
      "metadata": {
        "id": "K4yNx_FEzTX3"
      }
    },
    {
      "cell_type": "markdown",
      "source": [
        "######2.1.Nối chuỗi"
      ],
      "metadata": {
        "id": "6Zd_LHjK4tlZ"
      }
    },
    {
      "cell_type": "markdown",
      "source": [
        "* Sử dụng \"+\""
      ],
      "metadata": {
        "id": "NoMptPyq5M5M"
      }
    },
    {
      "cell_type": "code",
      "source": [
        "text1 = \"Hello\"\n",
        "text2 = \"World!\"\n",
        "\n",
        "text3 = text1 + \" \" + text2\n",
        "print(\"text3 = \", text3)"
      ],
      "metadata": {
        "colab": {
          "base_uri": "https://localhost:8080/"
        },
        "id": "1RGv0AR84j36",
        "outputId": "ac562ff2-6f63-4c65-fc9f-ef4d83ba5d28"
      },
      "execution_count": 9,
      "outputs": [
        {
          "output_type": "stream",
          "name": "stdout",
          "text": [
            "text3 =  Hello World!\n"
          ]
        }
      ]
    },
    {
      "cell_type": "markdown",
      "source": [
        "* Sử dụng \"*\""
      ],
      "metadata": {
        "id": "_ui2Topj5YEo"
      }
    },
    {
      "cell_type": "code",
      "source": [
        "text = \"a\"\n",
        "text *= 10\n",
        "print(\"text = \", text)"
      ],
      "metadata": {
        "colab": {
          "base_uri": "https://localhost:8080/"
        },
        "id": "7JeuCHmAzF1a",
        "outputId": "f47dcfed-d8ef-4802-9c74-10341a29f3be"
      },
      "execution_count": 10,
      "outputs": [
        {
          "output_type": "stream",
          "name": "stdout",
          "text": [
            "text =  aaaaaaaaaa\n"
          ]
        }
      ]
    },
    {
      "cell_type": "markdown",
      "source": [
        "######2.2.Duyệt chuỗi"
      ],
      "metadata": {
        "id": "n2a_5D8J5iX_"
      }
    },
    {
      "cell_type": "code",
      "source": [
        "text = \"Lập trình Python\"\n",
        "for _ in text:\n",
        "  print(_, end = \"\")"
      ],
      "metadata": {
        "colab": {
          "base_uri": "https://localhost:8080/"
        },
        "id": "W3AiBWOUzFyt",
        "outputId": "c12747af-3416-457f-b56c-a2135e8daaf3"
      },
      "execution_count": 12,
      "outputs": [
        {
          "output_type": "stream",
          "name": "stdout",
          "text": [
            "Lập trình Python"
          ]
        }
      ]
    },
    {
      "cell_type": "markdown",
      "source": [
        "####3.Định dạng chuỗi"
      ],
      "metadata": {
        "id": "D5KU7OU45zYB"
      }
    },
    {
      "cell_type": "markdown",
      "source": [
        "######3.1.Phương thức format"
      ],
      "metadata": {
        "id": "fkXjAmFQ59EJ"
      }
    },
    {
      "cell_type": "code",
      "source": [
        "# Thứ tự mặc định:\n",
        "text = \"{}, {} và {}\".format(\"Lan\", \"Minh\", \"Nam\")\n",
        "print(\"text = \", text)"
      ],
      "metadata": {
        "colab": {
          "base_uri": "https://localhost:8080/"
        },
        "id": "_lMncQQNzFvy",
        "outputId": "38b4ed66-680a-45d1-d202-af0c1e89be1a"
      },
      "execution_count": 13,
      "outputs": [
        {
          "output_type": "stream",
          "name": "stdout",
          "text": [
            "text =  Lan, Minh và Nam\n"
          ]
        }
      ]
    },
    {
      "cell_type": "code",
      "source": [
        "# Thứ tự với đối số \n",
        "text1 = \"{1}, {0} và {2}\".format(\"Lan\", \"Minh\", \"Nam\")\n",
        "print(\"text1 = \", text1)"
      ],
      "metadata": {
        "colab": {
          "base_uri": "https://localhost:8080/"
        },
        "id": "VsERVo7XzFtL",
        "outputId": "01f1c621-2f3a-4836-d0d8-3219803c5302"
      },
      "execution_count": 16,
      "outputs": [
        {
          "output_type": "stream",
          "name": "stdout",
          "text": [
            "text1 =  Minh, Lan và Nam\n"
          ]
        }
      ]
    },
    {
      "cell_type": "code",
      "source": [
        "# Thứ tự với key\n",
        "text2 = \"{m}, {n}, và {l}\".format(l = \"Lan\", m = \"Minh\", n = \"Nam\")\n",
        "print(\"text2 = \", text2)"
      ],
      "metadata": {
        "colab": {
          "base_uri": "https://localhost:8080/"
        },
        "id": "zl0HFxMKzFqK",
        "outputId": "6f73c2dc-c784-4f39-ccec-9719aaa29a27"
      },
      "execution_count": 18,
      "outputs": [
        {
          "output_type": "stream",
          "name": "stdout",
          "text": [
            "text2 =  Minh, Nam, và Lan\n"
          ]
        }
      ]
    },
    {
      "cell_type": "code",
      "source": [
        "# Dùng format để định dạng các số \n",
        "num1, num2 = 1, .32\n",
        "print(\"{:d} + {:.2f} = {:.2f}\".format(num1, num2, (num1 + num2)))"
      ],
      "metadata": {
        "colab": {
          "base_uri": "https://localhost:8080/"
        },
        "id": "AW3UbzDizFnb",
        "outputId": "9d54b4eb-0d49-4bec-9150-865a581b1417"
      },
      "execution_count": 22,
      "outputs": [
        {
          "output_type": "stream",
          "name": "stdout",
          "text": [
            "1 + 0.32 = 1.32\n"
          ]
        }
      ]
    },
    {
      "cell_type": "code",
      "source": [
        "# Căn lề cho chuỗi \n",
        "text = \"|{:<10}|{:^10}|{:>10}|\".format(\"list\", \"tuple\", \"set\")\n",
        "# căn \"list\" về phải (10 ô), \"tuple\" về giữa (10 ô), \"set\" về trái (10 ô)\n",
        "print(\"text = \", text)"
      ],
      "metadata": {
        "colab": {
          "base_uri": "https://localhost:8080/"
        },
        "id": "3h6Vu9CMzFkL",
        "outputId": "c3c5370d-f02b-48e6-c11a-1d9a3b697660"
      },
      "execution_count": 26,
      "outputs": [
        {
          "output_type": "stream",
          "name": "stdout",
          "text": [
            "text =  |list      |  tuple   |       set|\n"
          ]
        }
      ]
    },
    {
      "cell_type": "markdown",
      "source": [
        "######3.2.Dùng đặc tả"
      ],
      "metadata": {
        "id": "2Pa54qyPFHxg"
      }
    },
    {
      "cell_type": "markdown",
      "source": [
        "* Tương tự C, ta có thể dùng đặc tả % để in chuỗi hoặc các kiểu dữ liệu khác "
      ],
      "metadata": {
        "id": "IzJ3hqxqFKRI"
      }
    },
    {
      "cell_type": "code",
      "source": [
        "value1 = \"you\"\n",
        "value2 = \"Hello\"\n",
        "\n",
        "print(\"Hello %s. Have a nice day\" %value1)\n",
        "# Trường hợp truyền nhiều hơn 1 tham số \n",
        "print(\"%s %s. Have a nice day\" %(value2, value1))"
      ],
      "metadata": {
        "colab": {
          "base_uri": "https://localhost:8080/"
        },
        "id": "1Ux3KxbkFSHE",
        "outputId": "880a2526-8013-4a26-94c4-ad6a0fa76ad6"
      },
      "execution_count": 71,
      "outputs": [
        {
          "output_type": "stream",
          "name": "stdout",
          "text": [
            "Hello you. Have a nice day\n",
            "Hello you. Have a nice day\n"
          ]
        }
      ]
    },
    {
      "cell_type": "code",
      "source": [
        "x, y = 2, .3\n",
        "print(\"%d + %.2f = %.2f\" %(x, y, x + y))"
      ],
      "metadata": {
        "colab": {
          "base_uri": "https://localhost:8080/"
        },
        "id": "FvZrklJbF021",
        "outputId": "83acb47c-ad8a-4734-e1a8-f3b53c1f2736"
      },
      "execution_count": 72,
      "outputs": [
        {
          "output_type": "stream",
          "name": "stdout",
          "text": [
            "2 + 0.30 = 2.30\n"
          ]
        }
      ]
    },
    {
      "cell_type": "markdown",
      "source": [
        "######3.3.f-string"
      ],
      "metadata": {
        "id": "VUTY3NnSF_JW"
      }
    },
    {
      "cell_type": "markdown",
      "source": [
        "* Có thể sử dụng fstring để in định dạng"
      ],
      "metadata": {
        "id": "yFl2h0cSGD63"
      }
    },
    {
      "cell_type": "code",
      "source": [
        "name = \"John\"\n",
        "age = \"12\"\n",
        "print(f'Hello {name}. Are you {12} years old')"
      ],
      "metadata": {
        "colab": {
          "base_uri": "https://localhost:8080/"
        },
        "id": "qsMrcN_QGExC",
        "outputId": "5f74c8e3-d64b-4480-ab6b-7ce87bca2ebe"
      },
      "execution_count": 74,
      "outputs": [
        {
          "output_type": "stream",
          "name": "stdout",
          "text": [
            "Hello John. Are you 12 years old\n"
          ]
        }
      ]
    },
    {
      "cell_type": "code",
      "source": [
        "x, y = 2, .3\n",
        "print(f\"{x} + {y} = {x + y}\")"
      ],
      "metadata": {
        "colab": {
          "base_uri": "https://localhost:8080/"
        },
        "id": "iu6fOvR7GWt6",
        "outputId": "0cf59628-2409-4211-830d-ee088dcdc094"
      },
      "execution_count": 77,
      "outputs": [
        {
          "output_type": "stream",
          "name": "stdout",
          "text": [
            "2 + 0.3 = 2.3\n"
          ]
        }
      ]
    },
    {
      "cell_type": "markdown",
      "source": [
        "####4.Một số phương thức xử lý chuỗi\n",
        "\n",
        "\n",
        "\n",
        "\n"
      ],
      "metadata": {
        "id": "d2FPwkWc79YH"
      }
    },
    {
      "cell_type": "markdown",
      "source": [
        "######4.1.isdigit()"
      ],
      "metadata": {
        "id": "-vK2TU-B8Ej0"
      }
    },
    {
      "cell_type": "code",
      "source": [
        "print(\"10\".isdigit())\n",
        "print(\"abc\".isdigit())"
      ],
      "metadata": {
        "colab": {
          "base_uri": "https://localhost:8080/"
        },
        "id": "A5mkUDO5zFhT",
        "outputId": "f71bf974-9927-4169-aaf4-beeb381d803f"
      },
      "execution_count": 28,
      "outputs": [
        {
          "output_type": "stream",
          "name": "stdout",
          "text": [
            "True\n",
            "False\n"
          ]
        }
      ]
    },
    {
      "cell_type": "markdown",
      "source": [
        "######4.2.isalpha()"
      ],
      "metadata": {
        "id": "FSqXHp_n8QqB"
      }
    },
    {
      "cell_type": "code",
      "source": [
        "print(\"10\".isalpha())\n",
        "print(\"abc\".isalpha())"
      ],
      "metadata": {
        "colab": {
          "base_uri": "https://localhost:8080/"
        },
        "id": "42aEOTL8zFeM",
        "outputId": "ecd52d36-5078-4749-8225-5b7996546266"
      },
      "execution_count": 29,
      "outputs": [
        {
          "output_type": "stream",
          "name": "stdout",
          "text": [
            "False\n",
            "True\n"
          ]
        }
      ]
    },
    {
      "cell_type": "markdown",
      "source": [
        "######4.3.islower()"
      ],
      "metadata": {
        "id": "IHq3kBL_8ZJa"
      }
    },
    {
      "cell_type": "code",
      "source": [
        "print(\"ab\".islower())\n",
        "print(\"Ab\".islower())"
      ],
      "metadata": {
        "colab": {
          "base_uri": "https://localhost:8080/"
        },
        "id": "76tTgX44zFba",
        "outputId": "d8b83f0c-c2ab-42d4-8b34-f9ca68a10fd9"
      },
      "execution_count": 30,
      "outputs": [
        {
          "output_type": "stream",
          "name": "stdout",
          "text": [
            "True\n",
            "False\n"
          ]
        }
      ]
    },
    {
      "cell_type": "markdown",
      "source": [
        "######4.4.isupper()"
      ],
      "metadata": {
        "id": "7EyxZB3q8h5r"
      }
    },
    {
      "cell_type": "code",
      "source": [
        "print(\"Ab\".islower())\n",
        "print(\"AB\".islower())"
      ],
      "metadata": {
        "colab": {
          "base_uri": "https://localhost:8080/"
        },
        "id": "zk9WMHlXzFYq",
        "outputId": "542f57d3-a0fe-4062-f93e-0090a7d32ae6"
      },
      "execution_count": 31,
      "outputs": [
        {
          "output_type": "stream",
          "name": "stdout",
          "text": [
            "False\n",
            "False\n"
          ]
        }
      ]
    },
    {
      "cell_type": "markdown",
      "source": [
        "######4.5.istitle()"
      ],
      "metadata": {
        "id": "C9NL2goK8oFs"
      }
    },
    {
      "cell_type": "markdown",
      "source": [
        "Kiểm tra xem chuỗi có bắt đầu bằng chữ hoa không"
      ],
      "metadata": {
        "id": "u2YzuY4w8tTQ"
      }
    },
    {
      "cell_type": "code",
      "source": [
        "print(\"Hello\".istitle())\n",
        "print(\"HELLO\".istitle())\n",
        "print(\"hello\".istitle())"
      ],
      "metadata": {
        "colab": {
          "base_uri": "https://localhost:8080/"
        },
        "id": "oBwysXsSzFV8",
        "outputId": "78e19b63-b0c5-4dee-9a01-197cd10f573c"
      },
      "execution_count": 32,
      "outputs": [
        {
          "output_type": "stream",
          "name": "stdout",
          "text": [
            "True\n",
            "False\n",
            "False\n"
          ]
        }
      ]
    },
    {
      "cell_type": "markdown",
      "source": [
        "######4.6.isspace()"
      ],
      "metadata": {
        "id": "DfSMX-7086Om"
      }
    },
    {
      "cell_type": "markdown",
      "source": [
        "Kiểm tra xem chuỗi có toàn khoảng trắng không"
      ],
      "metadata": {
        "id": "Rb9Xfh0n8-bt"
      }
    },
    {
      "cell_type": "code",
      "source": [
        "print(\"\".isspace())\n",
        "print(\" \".isspace())\n",
        "print(\"    \".isspace())\n",
        "print(\"    abc      \".isspace())"
      ],
      "metadata": {
        "colab": {
          "base_uri": "https://localhost:8080/"
        },
        "id": "P-L4nULUzFTL",
        "outputId": "61813468-7ea0-446c-b5c8-0569956e5c0f"
      },
      "execution_count": 33,
      "outputs": [
        {
          "output_type": "stream",
          "name": "stdout",
          "text": [
            "False\n",
            "True\n",
            "True\n",
            "False\n"
          ]
        }
      ]
    },
    {
      "cell_type": "markdown",
      "source": [
        "4.7.count()"
      ],
      "metadata": {
        "id": "5SXdCsv39M7H"
      }
    },
    {
      "cell_type": "markdown",
      "source": [
        "Đếm số ký tự xuất hiện trong chuỗi"
      ],
      "metadata": {
        "id": "R7Ks-6119QxA"
      }
    },
    {
      "cell_type": "code",
      "source": [
        "text = \"AI VIET NAM\"\n",
        "print(text.count(\"A\"))\n",
        "print(text.count(\"a\"))"
      ],
      "metadata": {
        "colab": {
          "base_uri": "https://localhost:8080/"
        },
        "id": "AZf2lLEszFQa",
        "outputId": "38105b0b-116d-43c2-f1b0-475e01c3906b"
      },
      "execution_count": 34,
      "outputs": [
        {
          "output_type": "stream",
          "name": "stdout",
          "text": [
            "2\n",
            "0\n"
          ]
        }
      ]
    },
    {
      "cell_type": "markdown",
      "source": [
        "######4.8.len(str)"
      ],
      "metadata": {
        "id": "JUyiEc8d9co5"
      }
    },
    {
      "cell_type": "markdown",
      "source": [
        "Đếm số phần tử chuỗi"
      ],
      "metadata": {
        "id": "kaxrkF6g9gLx"
      }
    },
    {
      "cell_type": "code",
      "source": [
        "text = \"Lập trình Python\"\n",
        "print(\"len(text) = \", len(text))"
      ],
      "metadata": {
        "colab": {
          "base_uri": "https://localhost:8080/"
        },
        "id": "TZ_3YGBLzFNs",
        "outputId": "0fa96780-2641-40af-ca6c-7462a32659a8"
      },
      "execution_count": 35,
      "outputs": [
        {
          "output_type": "stream",
          "name": "stdout",
          "text": [
            "len(text) =  16\n"
          ]
        }
      ]
    },
    {
      "cell_type": "markdown",
      "source": [
        "####5.Một số hàm làm thay đổi chuỗi"
      ],
      "metadata": {
        "id": "mkMMKCtP9wrU"
      }
    },
    {
      "cell_type": "markdown",
      "source": [
        "* Những hàm này sẽ trả về một chuỗi đã được thay đổi, nếu muốn thay đổi chuỗi ban đầu, cần phải gán nó cho chuỗi mới"
      ],
      "metadata": {
        "id": "p1BQmjMs_T-G"
      }
    },
    {
      "cell_type": "markdown",
      "source": [
        "######5.1.title()"
      ],
      "metadata": {
        "id": "4yUOd1GM91N9"
      }
    },
    {
      "cell_type": "markdown",
      "source": [
        "* Chuyển chữ cái đầu tiên của mỗi từ"
      ],
      "metadata": {
        "id": "daiI-uhK95CX"
      }
    },
    {
      "cell_type": "code",
      "source": [
        "mystr = \"bài lý thuyết string\"\n",
        "mystr.title()"
      ],
      "metadata": {
        "colab": {
          "base_uri": "https://localhost:8080/",
          "height": 36
        },
        "id": "gUnZyRktzFKz",
        "outputId": "61949a1b-dfeb-4540-d3fe-40069d71b340"
      },
      "execution_count": 36,
      "outputs": [
        {
          "output_type": "execute_result",
          "data": {
            "text/plain": [
              "'Bài Lý Thuyết String'"
            ],
            "application/vnd.google.colaboratory.intrinsic+json": {
              "type": "string"
            }
          },
          "metadata": {},
          "execution_count": 36
        }
      ]
    },
    {
      "cell_type": "markdown",
      "source": [
        "######5.2.capitalize()"
      ],
      "metadata": {
        "id": "LMVrgCOQ-KVW"
      }
    },
    {
      "cell_type": "markdown",
      "source": [
        "* Chuyển ký tự đầu tiên của chuỗi thành chữ hoa (tính cả dấu cách)"
      ],
      "metadata": {
        "id": "vgr4F_uN-QGu"
      }
    },
    {
      "cell_type": "code",
      "source": [
        "mystr = \"bài lý thuyết string\"\n",
        "mystr.capitalize()"
      ],
      "metadata": {
        "colab": {
          "base_uri": "https://localhost:8080/",
          "height": 36
        },
        "id": "tsjTLyPtzFIK",
        "outputId": "c2c1d626-8479-4721-834c-8880011ed1e5"
      },
      "execution_count": 39,
      "outputs": [
        {
          "output_type": "execute_result",
          "data": {
            "text/plain": [
              "'Bài lý thuyết string'"
            ],
            "application/vnd.google.colaboratory.intrinsic+json": {
              "type": "string"
            }
          },
          "metadata": {},
          "execution_count": 39
        }
      ]
    },
    {
      "cell_type": "code",
      "source": [
        "mystr1 = \"    bài lý thuyết string\"\n",
        "mystr1.capitalize()"
      ],
      "metadata": {
        "colab": {
          "base_uri": "https://localhost:8080/",
          "height": 36
        },
        "id": "nSF5vHl2zFFr",
        "outputId": "5cb18f6e-b607-4058-909f-89a6e3c5df50"
      },
      "execution_count": 40,
      "outputs": [
        {
          "output_type": "execute_result",
          "data": {
            "text/plain": [
              "'    bài lý thuyết string'"
            ],
            "application/vnd.google.colaboratory.intrinsic+json": {
              "type": "string"
            }
          },
          "metadata": {},
          "execution_count": 40
        }
      ]
    },
    {
      "cell_type": "markdown",
      "source": [
        "######5.3.swapcase()"
      ],
      "metadata": {
        "id": "Ps6GIv3--hxX"
      }
    },
    {
      "cell_type": "markdown",
      "source": [
        "* chuyển chữ hoa thành chữ thường và ngược lại"
      ],
      "metadata": {
        "id": "SmD9SJJ0-o_Y"
      }
    },
    {
      "cell_type": "code",
      "execution_count": 41,
      "metadata": {
        "colab": {
          "base_uri": "https://localhost:8080/",
          "height": 36
        },
        "id": "QfX-8bSHy_lH",
        "outputId": "252631ad-0c77-4b5c-e7ad-c5b272bcb9f6"
      },
      "outputs": [
        {
          "output_type": "execute_result",
          "data": {
            "text/plain": [
              "'bÀI lÝ tHUYẾT sTRING'"
            ],
            "application/vnd.google.colaboratory.intrinsic+json": {
              "type": "string"
            }
          },
          "metadata": {},
          "execution_count": 41
        }
      ],
      "source": [
        "mystr = \"Bài Lý Thuyết String\"\n",
        "mystr.swapcase()"
      ]
    },
    {
      "cell_type": "markdown",
      "source": [
        "######5.4.upper()"
      ],
      "metadata": {
        "id": "ZujVeKd5-3Zz"
      }
    },
    {
      "cell_type": "code",
      "source": [
        "mystr = \"ngày mai rồi sẽ khác\"\n",
        "mystr.upper()"
      ],
      "metadata": {
        "colab": {
          "base_uri": "https://localhost:8080/",
          "height": 36
        },
        "id": "SfYoJwaK-rUg",
        "outputId": "db1d8a45-9150-4780-9bce-99ca649fd668"
      },
      "execution_count": 42,
      "outputs": [
        {
          "output_type": "execute_result",
          "data": {
            "text/plain": [
              "'NGÀY MAI RỒI SẼ KHÁC'"
            ],
            "application/vnd.google.colaboratory.intrinsic+json": {
              "type": "string"
            }
          },
          "metadata": {},
          "execution_count": 42
        }
      ]
    },
    {
      "cell_type": "markdown",
      "source": [
        "######5.5.lower()"
      ],
      "metadata": {
        "id": "etwuz0dN_AET"
      }
    },
    {
      "cell_type": "code",
      "source": [
        "mystr = \"Ngày MAI RỒI sẽ khác\"\n",
        "mystr.lower()"
      ],
      "metadata": {
        "colab": {
          "base_uri": "https://localhost:8080/",
          "height": 36
        },
        "id": "uLJsd1dv-rRy",
        "outputId": "2b01ca9a-ef75-472f-f3cd-69bb33382447"
      },
      "execution_count": 48,
      "outputs": [
        {
          "output_type": "execute_result",
          "data": {
            "text/plain": [
              "'ngày mai rồi sẽ khác'"
            ],
            "application/vnd.google.colaboratory.intrinsic+json": {
              "type": "string"
            }
          },
          "metadata": {},
          "execution_count": 48
        }
      ]
    },
    {
      "cell_type": "markdown",
      "source": [
        "######5.6.center()"
      ],
      "metadata": {
        "id": "Xv_pkkNc_jqb"
      }
    },
    {
      "cell_type": "markdown",
      "source": [
        "* truyền vào 2 tham số là (len, char): chuỗi sẽ được căn giữa với độ dài chuỗi là len, và ký tự thừa 2 bên là char"
      ],
      "metadata": {
        "id": "Jzx1SqKP_nNq"
      }
    },
    {
      "cell_type": "code",
      "source": [
        "mystr = \"Đây là bài học về String\"\n",
        "mystr.center(50, '_')"
      ],
      "metadata": {
        "colab": {
          "base_uri": "https://localhost:8080/",
          "height": 36
        },
        "id": "mNvadLLt-rPC",
        "outputId": "fdf44d87-1b41-4440-e3c1-c7556ca12f18"
      },
      "execution_count": 50,
      "outputs": [
        {
          "output_type": "execute_result",
          "data": {
            "text/plain": [
              "'_____________Đây là bài học về String_____________'"
            ],
            "application/vnd.google.colaboratory.intrinsic+json": {
              "type": "string"
            }
          },
          "metadata": {},
          "execution_count": 50
        }
      ]
    },
    {
      "cell_type": "markdown",
      "source": [
        "####6.Hàm xử lý thông dụng"
      ],
      "metadata": {
        "id": "DEOLjeGgAH1G"
      }
    },
    {
      "cell_type": "markdown",
      "source": [
        "* Một số thao tác hay dùng như tiềm kiếm, thay thế,..."
      ],
      "metadata": {
        "id": "9rTRBzOXABwN"
      }
    },
    {
      "cell_type": "markdown",
      "source": [
        "######6.1.strip()"
      ],
      "metadata": {
        "id": "BEbSPQYxAQvE"
      }
    },
    {
      "cell_type": "markdown",
      "source": [
        "* Loại bỏ khoảng trắng đầu 2 chuỗi "
      ],
      "metadata": {
        "id": "ukC0T13DAUrt"
      }
    },
    {
      "cell_type": "code",
      "source": [
        "mystr = \"   Have a nice day   \"\n",
        "mystr.strip()"
      ],
      "metadata": {
        "colab": {
          "base_uri": "https://localhost:8080/",
          "height": 36
        },
        "id": "qatO6_ax-rJj",
        "outputId": "1ea4bae4-9055-4cd6-b647-f6dda73a6e80"
      },
      "execution_count": 51,
      "outputs": [
        {
          "output_type": "execute_result",
          "data": {
            "text/plain": [
              "'Have a nice day'"
            ],
            "application/vnd.google.colaboratory.intrinsic+json": {
              "type": "string"
            }
          },
          "metadata": {},
          "execution_count": 51
        }
      ]
    },
    {
      "cell_type": "code",
      "source": [
        "# Ngoài khoảng trắng, thì mystr còn có thể loại bỏ các ký tự khác\n",
        "mystr = \"____  ____ Have a nice day   ____\"\n",
        "mystr.strip(\"_\")"
      ],
      "metadata": {
        "colab": {
          "base_uri": "https://localhost:8080/",
          "height": 36
        },
        "id": "YU2NmVvL-rGo",
        "outputId": "04a61600-68d9-46e6-86dc-3d9429f01b6a"
      },
      "execution_count": 53,
      "outputs": [
        {
          "output_type": "execute_result",
          "data": {
            "text/plain": [
              "'  ____ Have a nice day   '"
            ],
            "application/vnd.google.colaboratory.intrinsic+json": {
              "type": "string"
            }
          },
          "metadata": {},
          "execution_count": 53
        }
      ]
    },
    {
      "cell_type": "markdown",
      "source": [
        "######6.2.replace()"
      ],
      "metadata": {
        "id": "EV5U-_O6Arwh"
      }
    },
    {
      "cell_type": "markdown",
      "source": [
        "* Thay thế (chuỗi cũ, chuỗi mới, số lượng thay = 1)"
      ],
      "metadata": {
        "id": "WO2nToVMAwU0"
      }
    },
    {
      "cell_type": "code",
      "source": [
        "mystr = \"11145678910111\"\n",
        "mystr.replace(\"111\", \"123\", 2)\n"
      ],
      "metadata": {
        "colab": {
          "base_uri": "https://localhost:8080/",
          "height": 36
        },
        "id": "TQI0mPI9-rD5",
        "outputId": "95f21050-f64e-4c9b-e46c-508c6b255563"
      },
      "execution_count": 55,
      "outputs": [
        {
          "output_type": "execute_result",
          "data": {
            "text/plain": [
              "'12345678910123'"
            ],
            "application/vnd.google.colaboratory.intrinsic+json": {
              "type": "string"
            }
          },
          "metadata": {},
          "execution_count": 55
        }
      ]
    },
    {
      "cell_type": "markdown",
      "source": [
        "######6.3.partition()"
      ],
      "metadata": {
        "id": "Zgi5KUeiCxya"
      }
    },
    {
      "cell_type": "markdown",
      "source": [
        "* Tách chuỗi"
      ],
      "metadata": {
        "id": "CZsQ7msfC0Z3"
      }
    },
    {
      "cell_type": "code",
      "source": [
        "mystr = \"Đây là bài thực hành về string\"\n",
        "mystr.partition(\"hành\")"
      ],
      "metadata": {
        "colab": {
          "base_uri": "https://localhost:8080/"
        },
        "id": "5P5AbDRx-rBL",
        "outputId": "93791195-809e-481d-cd71-119eddfae798"
      },
      "execution_count": 62,
      "outputs": [
        {
          "output_type": "execute_result",
          "data": {
            "text/plain": [
              "('Đây là bài thực ', 'hành', ' về string')"
            ]
          },
          "metadata": {},
          "execution_count": 62
        }
      ]
    },
    {
      "cell_type": "code",
      "source": [
        "print(s1)\n",
        "print(s2)\n",
        "print(s3)"
      ],
      "metadata": {
        "colab": {
          "base_uri": "https://localhost:8080/"
        },
        "id": "GMqLUt-B-q-Y",
        "outputId": "2ef475b5-ed8e-4ad7-acba-3e3716ef040f"
      },
      "execution_count": 59,
      "outputs": [
        {
          "output_type": "stream",
          "name": "stdout",
          "text": [
            "Đây là bài thực \n",
            "hành\n",
            " về string\n"
          ]
        }
      ]
    },
    {
      "cell_type": "markdown",
      "source": [
        "######6.4.endswith"
      ],
      "metadata": {
        "id": "s1YiYzSPDxvu"
      }
    },
    {
      "cell_type": "markdown",
      "source": [
        "* Kiểm tra phần bắt đầu của string"
      ],
      "metadata": {
        "id": "bynj9MCBD2_x"
      }
    },
    {
      "cell_type": "code",
      "source": [
        "mystr = \"Bài thực hành string\"\n",
        "print(mystr.endswith(\"string\"))\n",
        "print(mystr.endswith(\"hh\"))"
      ],
      "metadata": {
        "colab": {
          "base_uri": "https://localhost:8080/"
        },
        "id": "zbWPH5Vz-q7b",
        "outputId": "607339d3-f053-4b06-d20a-25446fdd7553"
      },
      "execution_count": 63,
      "outputs": [
        {
          "output_type": "stream",
          "name": "stdout",
          "text": [
            "True\n",
            "False\n"
          ]
        }
      ]
    },
    {
      "cell_type": "markdown",
      "source": [
        "######6.5.statswith"
      ],
      "metadata": {
        "id": "f717FVmYEGao"
      }
    },
    {
      "cell_type": "code",
      "source": [
        "mystr = \"Bài thực hành string\"\n",
        "print(mystr.startswith(\"Bài\"))\n",
        "print(mystr.startswith(\"hh\"))"
      ],
      "metadata": {
        "colab": {
          "base_uri": "https://localhost:8080/"
        },
        "id": "ubGDrajl-q4p",
        "outputId": "aacc8c08-e96c-40bb-ddcb-1c796fca3e33"
      },
      "execution_count": 64,
      "outputs": [
        {
          "output_type": "stream",
          "name": "stdout",
          "text": [
            "True\n",
            "False\n"
          ]
        }
      ]
    },
    {
      "cell_type": "markdown",
      "source": [
        "######6.6.find()"
      ],
      "metadata": {
        "id": "ImiJxp-yEU6z"
      }
    },
    {
      "cell_type": "markdown",
      "source": [
        "* Trả về index đầu tiên của phần tử muốn tìm, không thấy trả về -1"
      ],
      "metadata": {
        "id": "FrMaFJS0EZgi"
      }
    },
    {
      "cell_type": "code",
      "source": [
        "mystr = \"1234554321\"\n",
        "print(mystr.find('1'))\n",
        "print(mystr.find('-10'))"
      ],
      "metadata": {
        "colab": {
          "base_uri": "https://localhost:8080/"
        },
        "id": "FMzkbqGy-q15",
        "outputId": "1aed7eab-5381-4438-9fe3-c03e7a335adc"
      },
      "execution_count": 66,
      "outputs": [
        {
          "output_type": "stream",
          "name": "stdout",
          "text": [
            "0\n",
            "-1\n"
          ]
        }
      ]
    },
    {
      "cell_type": "markdown",
      "source": [
        "######6.7.index()"
      ],
      "metadata": {
        "id": "QRhseXiCEtfd"
      }
    },
    {
      "cell_type": "markdown",
      "source": [
        "* Tương tự find nhưng sẽ trả về lỗi nếu không tìm thấy "
      ],
      "metadata": {
        "id": "uMYNgu_lEydH"
      }
    },
    {
      "cell_type": "code",
      "source": [
        "mystr = \"1234554321\"\n",
        "print(mystr.index('1'))"
      ],
      "metadata": {
        "colab": {
          "base_uri": "https://localhost:8080/"
        },
        "id": "zqxgjpTk-qy5",
        "outputId": "7f03bc15-af15-4988-c30a-52eb1b221ba0"
      },
      "execution_count": 70,
      "outputs": [
        {
          "output_type": "stream",
          "name": "stdout",
          "text": [
            "0\n"
          ]
        }
      ]
    },
    {
      "cell_type": "code",
      "source": [
        "print(mystr.index('-10'))"
      ],
      "metadata": {
        "colab": {
          "base_uri": "https://localhost:8080/",
          "height": 165
        },
        "id": "NmECMPq8-qwQ",
        "outputId": "a277238b-db6e-4fb7-e148-4dc1783f43d9"
      },
      "execution_count": 69,
      "outputs": [
        {
          "output_type": "error",
          "ename": "ValueError",
          "evalue": "ignored",
          "traceback": [
            "\u001b[0;31m---------------------------------------------------------------------------\u001b[0m",
            "\u001b[0;31mValueError\u001b[0m                                Traceback (most recent call last)",
            "\u001b[0;32m<ipython-input-69-167036e3185c>\u001b[0m in \u001b[0;36m<module>\u001b[0;34m\u001b[0m\n\u001b[0;32m----> 1\u001b[0;31m \u001b[0mprint\u001b[0m\u001b[0;34m(\u001b[0m\u001b[0mmystr\u001b[0m\u001b[0;34m.\u001b[0m\u001b[0mindex\u001b[0m\u001b[0;34m(\u001b[0m\u001b[0;34m'-10'\u001b[0m\u001b[0;34m)\u001b[0m\u001b[0;34m)\u001b[0m\u001b[0;34m\u001b[0m\u001b[0;34m\u001b[0m\u001b[0m\n\u001b[0m",
            "\u001b[0;31mValueError\u001b[0m: substring not found"
          ]
        }
      ]
    },
    {
      "cell_type": "code",
      "source": [],
      "metadata": {
        "id": "FUF15VMa-qtb"
      },
      "execution_count": null,
      "outputs": []
    },
    {
      "cell_type": "code",
      "source": [],
      "metadata": {
        "id": "0PYEI0j0-qqZ"
      },
      "execution_count": null,
      "outputs": []
    },
    {
      "cell_type": "code",
      "source": [],
      "metadata": {
        "id": "cgBniXPY-qnR"
      },
      "execution_count": null,
      "outputs": []
    },
    {
      "cell_type": "code",
      "source": [],
      "metadata": {
        "id": "BrMQTiAR-qkp"
      },
      "execution_count": null,
      "outputs": []
    }
  ]
}