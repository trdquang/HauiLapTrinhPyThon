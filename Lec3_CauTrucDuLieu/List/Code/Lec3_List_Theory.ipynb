{
  "nbformat": 4,
  "nbformat_minor": 0,
  "metadata": {
    "colab": {
      "provenance": [],
      "toc_visible": true
    },
    "kernelspec": {
      "name": "python3",
      "display_name": "Python 3"
    },
    "language_info": {
      "name": "python"
    }
  },
  "cells": [
    {
      "cell_type": "markdown",
      "source": [
        "#1.Khởi tạo list"
      ],
      "metadata": {
        "id": "Aedoz6F1UNU4"
      }
    },
    {
      "cell_type": "markdown",
      "source": [
        "* List có thể thay đổi các phần tử và truy cập được phần tử theo index"
      ],
      "metadata": {
        "id": "jmafezM_Ub4D"
      }
    },
    {
      "cell_type": "code",
      "execution_count": null,
      "metadata": {
        "colab": {
          "base_uri": "https://localhost:8080/"
        },
        "id": "kxr00b5vT_bl",
        "outputId": "50ae0d37-a61f-4ac4-d7e7-a868a3c5d675"
      },
      "outputs": [
        {
          "output_type": "stream",
          "name": "stdout",
          "text": [
            "[1, 2, 3]\n",
            "[]\n",
            "[1, 2, 3, 'bốn', 'năm', [(1+2j)]]\n"
          ]
        }
      ],
      "source": [
        "# Khởi tạo list bằng cách đặt các phần tử trong cặp dấu móc vuông\n",
        "# 1 list có thể chứa nhiều kiểu dữ liệu khác nhau\n",
        "\n",
        "my_list1 = [1, 2, 3]\n",
        "my_list2 = []\n",
        "my_list3 = [1, 2, 3, \"bốn\", \"năm\", [1 + 2j]]\n",
        "\n",
        "print(my_list1)\n",
        "print(my_list2)\n",
        "print(my_list3)"
      ]
    },
    {
      "cell_type": "markdown",
      "source": [
        "#2.Truy cập phần tử"
      ],
      "metadata": {
        "id": "jPm-crX5U4_N"
      }
    },
    {
      "cell_type": "markdown",
      "source": [
        "##2.1.index"
      ],
      "metadata": {
        "id": "QzV_s5QUU8DE"
      }
    },
    {
      "cell_type": "markdown",
      "source": [
        "* Trong Python hỗ trợ cả index âm và dương. Index âm tính từ -1(tức là vị trí cuối list)"
      ],
      "metadata": {
        "id": "aB2eR8TKU-Wz"
      }
    },
    {
      "cell_type": "code",
      "source": [
        "my_list = ['P', 'y', 't', 'h', 'o', 'n']\n",
        "print(my_list[0])\n",
        "print(my_list[-1])"
      ],
      "metadata": {
        "colab": {
          "base_uri": "https://localhost:8080/"
        },
        "id": "HOccaUxcUEVd",
        "outputId": "e2251bb3-ff67-40d9-880e-d84c043dcaa0"
      },
      "execution_count": null,
      "outputs": [
        {
          "output_type": "stream",
          "name": "stdout",
          "text": [
            "P\n",
            "n\n"
          ]
        }
      ]
    },
    {
      "cell_type": "code",
      "source": [
        "# Lấy ra phần tử trong 1 list con của list\n",
        "my_list1 = [1, 2, 3, [4, 5]]\n",
        "print(my_list1[-1][1])"
      ],
      "metadata": {
        "colab": {
          "base_uri": "https://localhost:8080/"
        },
        "id": "smPSFlBeUESN",
        "outputId": "5f977bf9-9c9b-4261-cacc-63596e21562e"
      },
      "execution_count": null,
      "outputs": [
        {
          "output_type": "stream",
          "name": "stdout",
          "text": [
            "5\n"
          ]
        }
      ]
    },
    {
      "cell_type": "markdown",
      "source": [
        "##2.2.slicing"
      ],
      "metadata": {
        "id": "IuxrO8ZuVqbT"
      }
    },
    {
      "cell_type": "markdown",
      "source": [
        "* (start, stop, step)"
      ],
      "metadata": {
        "id": "QkD6bsHXVsx9"
      }
    },
    {
      "cell_type": "code",
      "source": [
        "my_list = ['P', 'y', 't', 'h', 'o', 'n']\n",
        "# Lấy phần tử từ [2, 4] với step = 1\n",
        "print(my_list[2: 4])\n",
        "\n",
        "# Lấy phần tử từ 3 đến cuối\n",
        "print(my_list[3: ])\n",
        "\n",
        "# Lấy hết \n",
        "print(my_list[:])"
      ],
      "metadata": {
        "colab": {
          "base_uri": "https://localhost:8080/"
        },
        "id": "orazYA7jUEPT",
        "outputId": "b81c22eb-6fac-4c55-c00c-509cedba4a99"
      },
      "execution_count": null,
      "outputs": [
        {
          "output_type": "stream",
          "name": "stdout",
          "text": [
            "['t', 'h']\n",
            "['h', 'o', 'n']\n",
            "['P', 'y', 't', 'h', 'o', 'n']\n"
          ]
        }
      ]
    },
    {
      "cell_type": "code",
      "source": [
        "# Lấy ngược chiều với index âm\n",
        "print(my_list[-1: -len(my_list) -1: -1])"
      ],
      "metadata": {
        "colab": {
          "base_uri": "https://localhost:8080/"
        },
        "id": "cKO5k_fQUEMK",
        "outputId": "fb769061-39f5-4d7b-dd8f-20dd8e2f411d"
      },
      "execution_count": null,
      "outputs": [
        {
          "output_type": "stream",
          "name": "stdout",
          "text": [
            "['n', 'o', 'h', 't', 'y', 'P']\n"
          ]
        }
      ]
    },
    {
      "cell_type": "markdown",
      "source": [
        "#3.Thao tác cơ bản với list"
      ],
      "metadata": {
        "id": "Kfgz_k4SYtM1"
      }
    },
    {
      "cell_type": "markdown",
      "source": [
        "##3.1.Thêm"
      ],
      "metadata": {
        "id": "xHSfOxQpWkv_"
      }
    },
    {
      "cell_type": "markdown",
      "source": [
        "###3.1.1.append()"
      ],
      "metadata": {
        "id": "k68uhu7WWpv9"
      }
    },
    {
      "cell_type": "markdown",
      "source": [
        "* Thêm phần tử vào cuối"
      ],
      "metadata": {
        "id": "CaQw6DVXW4r-"
      }
    },
    {
      "cell_type": "code",
      "source": [
        "my_list = [1, 2, 3, 4, 5]\n",
        "my_list.append(6)\n",
        "my_list.append(7)\n",
        "my_list.append(8)\n",
        "my_list.append(9)\n",
        "my_list.append(10)\n",
        "print(my_list)"
      ],
      "metadata": {
        "colab": {
          "base_uri": "https://localhost:8080/"
        },
        "id": "g7b9JmX8UEJC",
        "outputId": "5a9a8d5d-5735-4679-f871-3c683fb3afce"
      },
      "execution_count": null,
      "outputs": [
        {
          "output_type": "stream",
          "name": "stdout",
          "text": [
            "[1, 2, 3, 4, 5, 6, 7, 8, 9, 10]\n"
          ]
        }
      ]
    },
    {
      "cell_type": "markdown",
      "source": [
        "###3.1.2.extend()"
      ],
      "metadata": {
        "id": "lbMdQmWWXHC7"
      }
    },
    {
      "cell_type": "markdown",
      "source": [
        "* Thêm nhiều phần tử vào danh sách"
      ],
      "metadata": {
        "id": "4I7OUKsxXMky"
      }
    },
    {
      "cell_type": "code",
      "source": [
        "my_list = [1, 2, 3, 4, 5]\n",
        "my_list.extend([6, 7, 8, 9, 10])\n",
        "\n",
        "print(my_list)"
      ],
      "metadata": {
        "colab": {
          "base_uri": "https://localhost:8080/"
        },
        "id": "IC3nq6h6UEFu",
        "outputId": "7961e4eb-dcdd-46ce-f4c2-2464f22b4880"
      },
      "execution_count": null,
      "outputs": [
        {
          "output_type": "stream",
          "name": "stdout",
          "text": [
            "[1, 2, 3, 4, 5, 6, 7, 8, 9, 10]\n"
          ]
        }
      ]
    },
    {
      "cell_type": "markdown",
      "source": [
        "* Sự khác nhau giữa append và extend"
      ],
      "metadata": {
        "id": "fl4OB0qgXm89"
      }
    },
    {
      "cell_type": "code",
      "source": [
        "my_list = [1, 2, 3, 4, 5]\n",
        "my_list1 = [1, 2, 3, 4, 5]\n",
        "\n",
        "my_list.extend([6, 7, 8, 9, 10])\n",
        "my_list1.append([6, 7, 8, 9, 10])\n",
        "\n",
        "print(my_list)\n",
        "print(my_list1)"
      ],
      "metadata": {
        "colab": {
          "base_uri": "https://localhost:8080/"
        },
        "id": "eN9kX8RuUECW",
        "outputId": "38f39b3f-e19c-430e-fa56-e0a6651a7149"
      },
      "execution_count": null,
      "outputs": [
        {
          "output_type": "stream",
          "name": "stdout",
          "text": [
            "[1, 2, 3, 4, 5, 6, 7, 8, 9, 10]\n",
            "[1, 2, 3, 4, 5, [6, 7, 8, 9, 10]]\n"
          ]
        }
      ]
    },
    {
      "cell_type": "markdown",
      "source": [
        "###3.1.3.insert()"
      ],
      "metadata": {
        "id": "RHhev1MscBYa"
      }
    },
    {
      "cell_type": "markdown",
      "source": [
        "* insert(index, value)"
      ],
      "metadata": {
        "id": "aDLrde6acIk0"
      }
    },
    {
      "cell_type": "code",
      "source": [
        "my_list = [1, 2, 3, 4, 5, 6]\n",
        "\n",
        "my_list.insert(0, -100)\n",
        "print(my_list)"
      ],
      "metadata": {
        "colab": {
          "base_uri": "https://localhost:8080/"
        },
        "id": "Y380qOQocNt3",
        "outputId": "bdabfdb0-5e29-4f6d-80fc-8009fb11dc8e"
      },
      "execution_count": null,
      "outputs": [
        {
          "output_type": "stream",
          "name": "stdout",
          "text": [
            "[-100, 1, 2, 3, 4, 5, 6]\n"
          ]
        }
      ]
    },
    {
      "cell_type": "markdown",
      "source": [
        "###3.1.4.Dùng toán tử +"
      ],
      "metadata": {
        "id": "lmkjU4PEX4xH"
      }
    },
    {
      "cell_type": "markdown",
      "source": [
        "* Nối thêm 1 danh sách vào sau danh sách "
      ],
      "metadata": {
        "id": "jPqVp6aYX8xg"
      }
    },
    {
      "cell_type": "code",
      "source": [
        "odd = [1, 3, 7]\n",
        "tmp = [2, 4, 6]\n",
        "\n",
        "print(odd + tmp)"
      ],
      "metadata": {
        "colab": {
          "base_uri": "https://localhost:8080/"
        },
        "id": "SDZbWBm9UD-4",
        "outputId": "0cc6fa6b-3748-4938-f27b-fb4da1c39619"
      },
      "execution_count": null,
      "outputs": [
        {
          "output_type": "stream",
          "name": "stdout",
          "text": [
            "[1, 3, 7, 2, 4, 6]\n"
          ]
        }
      ]
    },
    {
      "cell_type": "markdown",
      "source": [
        "###3.1.5.Dùng toán tử *"
      ],
      "metadata": {
        "id": "VNQWmbduYdOd"
      }
    },
    {
      "cell_type": "code",
      "source": [
        "odd = ['Py']\n",
        "\n",
        "print(odd * 10)"
      ],
      "metadata": {
        "colab": {
          "base_uri": "https://localhost:8080/"
        },
        "id": "eiRIIEEXUD7O",
        "outputId": "15eaf169-6e4c-4642-b3ae-8967a7baea98"
      },
      "execution_count": null,
      "outputs": [
        {
          "output_type": "stream",
          "name": "stdout",
          "text": [
            "['Py', 'Py', 'Py', 'Py', 'Py', 'Py', 'Py', 'Py', 'Py', 'Py']\n"
          ]
        }
      ]
    },
    {
      "cell_type": "markdown",
      "source": [
        "##3.2.Xóa"
      ],
      "metadata": {
        "id": "u2FOp1RCZDyq"
      }
    },
    {
      "cell_type": "markdown",
      "source": [
        "###3.2.1.del"
      ],
      "metadata": {
        "id": "YXueIASkZI8p"
      }
    },
    {
      "cell_type": "markdown",
      "source": [
        "* Xóa địa chỉ con trỏ trong vùng nhớ"
      ],
      "metadata": {
        "id": "VflhbFsXZQ_o"
      }
    },
    {
      "cell_type": "code",
      "source": [
        "my_list = [1, 2, 3, 4, 5]\n",
        "\n",
        "del my_list[0]        #[2, 3, 4, 5]\n",
        "del my_list[0]        #[3, 4, 5]\n",
        "del my_list[0]        #[4, 5]\n",
        "\n",
        "print(my_list)"
      ],
      "metadata": {
        "colab": {
          "base_uri": "https://localhost:8080/"
        },
        "id": "96hoJwkGUD32",
        "outputId": "811f967f-37c0-43cb-b650-71e20f06a074"
      },
      "execution_count": null,
      "outputs": [
        {
          "output_type": "stream",
          "name": "stdout",
          "text": [
            "[4, 5]\n"
          ]
        }
      ]
    },
    {
      "cell_type": "code",
      "source": [
        "# Nếu xóa cả list, thì câu lệnh sẽ xóa địa chỉ vùng nhớ, nên gọi lại sẽ gây lỗi\n",
        "del (my_list)\n",
        "print(my_list)"
      ],
      "metadata": {
        "colab": {
          "base_uri": "https://localhost:8080/",
          "height": 200
        },
        "id": "UBYrwRYpUD0Q",
        "outputId": "27baae7a-8f12-46f9-fefb-3bb5906d57cc"
      },
      "execution_count": null,
      "outputs": [
        {
          "output_type": "error",
          "ename": "NameError",
          "evalue": "ignored",
          "traceback": [
            "\u001b[0;31m---------------------------------------------------------------------------\u001b[0m",
            "\u001b[0;31mNameError\u001b[0m                                 Traceback (most recent call last)",
            "\u001b[0;32m<ipython-input-30-2a2c19f08736>\u001b[0m in \u001b[0;36m<module>\u001b[0;34m\u001b[0m\n\u001b[1;32m      1\u001b[0m \u001b[0;31m# Nếu xóa cả list, thì câu lệnh sẽ xóa địa chỉ vùng nhớ, nên gọi lại sẽ gây lỗi\u001b[0m\u001b[0;34m\u001b[0m\u001b[0;34m\u001b[0m\u001b[0;34m\u001b[0m\u001b[0m\n\u001b[1;32m      2\u001b[0m \u001b[0;32mdel\u001b[0m \u001b[0;34m(\u001b[0m\u001b[0mmy_list\u001b[0m\u001b[0;34m)\u001b[0m\u001b[0;34m\u001b[0m\u001b[0;34m\u001b[0m\u001b[0m\n\u001b[0;32m----> 3\u001b[0;31m \u001b[0mprint\u001b[0m\u001b[0;34m(\u001b[0m\u001b[0mmy_list\u001b[0m\u001b[0;34m)\u001b[0m\u001b[0;34m\u001b[0m\u001b[0;34m\u001b[0m\u001b[0m\n\u001b[0m",
            "\u001b[0;31mNameError\u001b[0m: name 'my_list' is not defined"
          ]
        }
      ]
    },
    {
      "cell_type": "markdown",
      "source": [
        "###.3.2.2.remove()"
      ],
      "metadata": {
        "id": "nW7NE9hraI5X"
      }
    },
    {
      "cell_type": "markdown",
      "source": [
        "* Loại bỏ phần tử đầu tiên có value truyền vào\n"
      ],
      "metadata": {
        "id": "mCrmXqsjaNAP"
      }
    },
    {
      "cell_type": "code",
      "source": [
        "my_list = [1, 2, 3, 1, 1, 1, 1]\n",
        "my_list.remove(1)\n",
        "\n",
        "print(my_list)"
      ],
      "metadata": {
        "colab": {
          "base_uri": "https://localhost:8080/"
        },
        "id": "9BP1jQGnUDxM",
        "outputId": "6c88acf8-bdfd-4794-bda8-c26e4dcfd0bd"
      },
      "execution_count": null,
      "outputs": [
        {
          "output_type": "stream",
          "name": "stdout",
          "text": [
            "[2, 3, 1, 1, 1, 1]\n"
          ]
        }
      ]
    },
    {
      "cell_type": "markdown",
      "source": [
        "###3.2.3.pop()"
      ],
      "metadata": {
        "id": "k8fCXyVoalQ6"
      }
    },
    {
      "cell_type": "markdown",
      "source": [
        "* Xóa phần tử theo index, nếu không truyền gì sẽ xóa phần tử cuối cùng"
      ],
      "metadata": {
        "id": "4v5OVWb0avfb"
      }
    },
    {
      "cell_type": "code",
      "source": [
        "my_list = [1, 2, 3, 4, 5, 1, 6]\n",
        "# Xoá phần tử có index = 0\n",
        "my_list.pop(0)    #[2, 3, 4, 5, 1, 6]\n",
        "\n",
        "# Xóa phần tử có index cuối cùng\n",
        "my_list.pop()     #[2, 3, 4, 5, 1]\n",
        "\n",
        "print(my_list)"
      ],
      "metadata": {
        "colab": {
          "base_uri": "https://localhost:8080/"
        },
        "id": "Twp8MPgXUDtu",
        "outputId": "e723f11a-a7c1-4e9a-832a-fb1a5eb59890"
      },
      "execution_count": null,
      "outputs": [
        {
          "output_type": "stream",
          "name": "stdout",
          "text": [
            "[2, 3, 4, 5, 1]\n"
          ]
        }
      ]
    },
    {
      "cell_type": "markdown",
      "source": [
        "###3.2.4.clear()"
      ],
      "metadata": {
        "id": "ybwP2TBAbQHX"
      }
    },
    {
      "cell_type": "markdown",
      "source": [
        "* Xóa hết giá trị của list"
      ],
      "metadata": {
        "id": "aGP3M7mDbS12"
      }
    },
    {
      "cell_type": "code",
      "source": [
        "my_list = [1, 2, 3, 4, 5, 6]\n",
        "\n",
        "print(my_list)\n",
        "my_list.clear()\n",
        "\n",
        "print(\"My_list after clear: \", my_list)"
      ],
      "metadata": {
        "colab": {
          "base_uri": "https://localhost:8080/"
        },
        "id": "CJ9Wc9xQUDqX",
        "outputId": "135906fc-56d6-41c7-f35c-7e08a6d67f89"
      },
      "execution_count": null,
      "outputs": [
        {
          "output_type": "stream",
          "name": "stdout",
          "text": [
            "[1, 2, 3, 4, 5, 6]\n",
            "My_list after clear:  []\n"
          ]
        }
      ]
    },
    {
      "cell_type": "markdown",
      "source": [
        "##3.3.Sắp xếp"
      ],
      "metadata": {
        "id": "CeM57jNQcam8"
      }
    },
    {
      "cell_type": "markdown",
      "source": [
        "###3.3.1.sort()"
      ],
      "metadata": {
        "id": "ZHN0LEi-cgZg"
      }
    },
    {
      "cell_type": "markdown",
      "source": [
        "* sort(reverse = False)"
      ],
      "metadata": {
        "id": "1TVaLuYmclQf"
      }
    },
    {
      "cell_type": "code",
      "source": [
        "my_list = [6, 5, 7, 1, 9, 2] \n",
        "\n",
        "my_list.sort()\n",
        "print(my_list)"
      ],
      "metadata": {
        "colab": {
          "base_uri": "https://localhost:8080/"
        },
        "id": "Juy6WQv5UDnW",
        "outputId": "dc0c2ba3-3875-4aa2-c324-ce345da664f9"
      },
      "execution_count": null,
      "outputs": [
        {
          "output_type": "stream",
          "name": "stdout",
          "text": [
            "[1, 2, 5, 6, 7, 9]\n"
          ]
        }
      ]
    },
    {
      "cell_type": "code",
      "source": [
        "my_list.sort(reverse=True)\n",
        "print(my_list)"
      ],
      "metadata": {
        "colab": {
          "base_uri": "https://localhost:8080/"
        },
        "id": "OT1xssm8UDkA",
        "outputId": "2a6c09ff-8376-47df-fd45-3d9ad4193578"
      },
      "execution_count": null,
      "outputs": [
        {
          "output_type": "stream",
          "name": "stdout",
          "text": [
            "[9, 7, 6, 5, 2, 1]\n"
          ]
        }
      ]
    },
    {
      "cell_type": "markdown",
      "source": [
        "##3.4.Tìm kiếm"
      ],
      "metadata": {
        "id": "O1fokiGadMaz"
      }
    },
    {
      "cell_type": "markdown",
      "source": [
        "###3.4.1.index()"
      ],
      "metadata": {
        "id": "m_5SBTC0dRMc"
      }
    },
    {
      "cell_type": "markdown",
      "source": [
        "* Trả về vị trí đầu tiên tìm thấy \n",
        "\n",
        "* Không thấy sẽ trả về lỗi "
      ],
      "metadata": {
        "id": "Z_e0FurOdWWc"
      }
    },
    {
      "cell_type": "code",
      "source": [
        "my_list = [6, 5, 9, 1, 8, 9, 2]\n",
        "\n",
        "my_list.index(9)"
      ],
      "metadata": {
        "colab": {
          "base_uri": "https://localhost:8080/"
        },
        "id": "-VRsN0e4UDg6",
        "outputId": "004f62b4-d02f-4197-9aa4-75d3e55138c6"
      },
      "execution_count": null,
      "outputs": [
        {
          "output_type": "execute_result",
          "data": {
            "text/plain": [
              "2"
            ]
          },
          "metadata": {},
          "execution_count": 53
        }
      ]
    },
    {
      "cell_type": "code",
      "source": [
        "print(my_list.index(10))"
      ],
      "metadata": {
        "colab": {
          "base_uri": "https://localhost:8080/",
          "height": 165
        },
        "id": "WoQWJaG6UDd4",
        "outputId": "59901838-7a95-4684-a4f2-e7c71c1c27a2"
      },
      "execution_count": null,
      "outputs": [
        {
          "output_type": "error",
          "ename": "ValueError",
          "evalue": "ignored",
          "traceback": [
            "\u001b[0;31m---------------------------------------------------------------------------\u001b[0m",
            "\u001b[0;31mValueError\u001b[0m                                Traceback (most recent call last)",
            "\u001b[0;32m<ipython-input-54-30b3e50d1606>\u001b[0m in \u001b[0;36m<module>\u001b[0;34m\u001b[0m\n\u001b[0;32m----> 1\u001b[0;31m \u001b[0mprint\u001b[0m\u001b[0;34m(\u001b[0m\u001b[0mmy_list\u001b[0m\u001b[0;34m.\u001b[0m\u001b[0mindex\u001b[0m\u001b[0;34m(\u001b[0m\u001b[0;36m10\u001b[0m\u001b[0;34m)\u001b[0m\u001b[0;34m)\u001b[0m\u001b[0;34m\u001b[0m\u001b[0;34m\u001b[0m\u001b[0m\n\u001b[0m",
            "\u001b[0;31mValueError\u001b[0m: 10 is not in list"
          ]
        }
      ]
    },
    {
      "cell_type": "markdown",
      "source": [
        "#4.Một số phương thức khác "
      ],
      "metadata": {
        "id": "NhVQ-iXCeAeg"
      }
    },
    {
      "cell_type": "markdown",
      "source": [
        "##4.1.reverse()"
      ],
      "metadata": {
        "id": "sFOgj57_eEW4"
      }
    },
    {
      "cell_type": "markdown",
      "source": [
        "* Đảo ngược list"
      ],
      "metadata": {
        "id": "kznYwAmzeH-K"
      }
    },
    {
      "cell_type": "code",
      "source": [
        "my_list = [1, 2, 3, 4, 5, 6, 7, 8, 9]\n",
        "\n",
        "my_list.reverse()\n",
        "print(my_list)"
      ],
      "metadata": {
        "colab": {
          "base_uri": "https://localhost:8080/"
        },
        "id": "q2jMwcyrds2N",
        "outputId": "6276a681-f85f-4b2c-836f-afc5dcd8bf67"
      },
      "execution_count": null,
      "outputs": [
        {
          "output_type": "stream",
          "name": "stdout",
          "text": [
            "[9, 8, 7, 6, 5, 4, 3, 2, 1]\n"
          ]
        }
      ]
    },
    {
      "cell_type": "markdown",
      "source": [
        "##4.2.count()"
      ],
      "metadata": {
        "id": "AXPlZixseRjg"
      }
    },
    {
      "cell_type": "markdown",
      "source": [
        "* Đếm số lần xuất hiện 1 phần tử trong list"
      ],
      "metadata": {
        "id": "iYUQ6u0VeTkL"
      }
    },
    {
      "cell_type": "code",
      "source": [
        "my_list = [1, 2, 2, 3, 4, 5, 6, 2]\n",
        "\n",
        "my_list.count(2)"
      ],
      "metadata": {
        "colab": {
          "base_uri": "https://localhost:8080/"
        },
        "id": "Lix3J5UzUDa8",
        "outputId": "5126df60-49d2-4775-fae1-c5fdc61611b0"
      },
      "execution_count": null,
      "outputs": [
        {
          "output_type": "execute_result",
          "data": {
            "text/plain": [
              "3"
            ]
          },
          "metadata": {},
          "execution_count": 59
        }
      ]
    },
    {
      "cell_type": "markdown",
      "source": [
        "##4.2.copy()"
      ],
      "metadata": {
        "id": "YJWZhuCkeiC8"
      }
    },
    {
      "cell_type": "markdown",
      "source": [
        "* copy dữ liệu sang 1 list mới, không còn liên quan đến list cũ "
      ],
      "metadata": {
        "id": "K1fwnHSze1Jf"
      }
    },
    {
      "cell_type": "code",
      "source": [
        "my_list = [1, 3, 5, 7, 9, 11]\n",
        "\n",
        "my_list_copy = my_list.copy()\n",
        "print(my_list_copy)"
      ],
      "metadata": {
        "colab": {
          "base_uri": "https://localhost:8080/"
        },
        "id": "btviurXcUDX1",
        "outputId": "faed6708-a76f-40f0-c942-f4aa3a9b186e"
      },
      "execution_count": null,
      "outputs": [
        {
          "output_type": "stream",
          "name": "stdout",
          "text": [
            "[1, 3, 5, 7, 9, 11]\n"
          ]
        }
      ]
    },
    {
      "cell_type": "markdown",
      "source": [
        "#5.Một số thao tác nâng cao trong list"
      ],
      "metadata": {
        "id": "7BGAc3w_g2qt"
      }
    },
    {
      "cell_type": "markdown",
      "source": [
        "##5.1.List comprehension"
      ],
      "metadata": {
        "id": "i01jfOwwg-3U"
      }
    },
    {
      "cell_type": "markdown",
      "source": [
        "* list_name = [**expression** for **element** in **iterable**]"
      ],
      "metadata": {
        "id": "HoCVNYl7hIkG"
      }
    },
    {
      "cell_type": "code",
      "source": [
        "# Ví dụ tạo nhanh 1 list \n",
        "list_1 = [c for c in \"Hello\"]\n",
        "print(list_1)"
      ],
      "metadata": {
        "id": "l8HmP1eqUDR9",
        "colab": {
          "base_uri": "https://localhost:8080/"
        },
        "outputId": "588de7a9-e115-4e17-c557-01f1bd677d30"
      },
      "execution_count": 65,
      "outputs": [
        {
          "output_type": "stream",
          "name": "stdout",
          "text": [
            "['H', 'e', 'l', 'l', 'o']\n"
          ]
        }
      ]
    },
    {
      "cell_type": "code",
      "source": [
        "list_2 = [i for i in range(10) if i % 2 == 0]\n",
        "print(list_2)"
      ],
      "metadata": {
        "colab": {
          "base_uri": "https://localhost:8080/"
        },
        "id": "qyXv4m4cUDPH",
        "outputId": "11dd21ba-777d-4b11-a32d-1738574398d4"
      },
      "execution_count": 68,
      "outputs": [
        {
          "output_type": "stream",
          "name": "stdout",
          "text": [
            "[0, 2, 4, 6, 8]\n"
          ]
        }
      ]
    },
    {
      "cell_type": "markdown",
      "source": [
        "##5.2.filter data"
      ],
      "metadata": {
        "id": "bPBEypk-o0w6"
      }
    },
    {
      "cell_type": "markdown",
      "source": [
        "###5.2.1.lambda"
      ],
      "metadata": {
        "id": "QBwAjVDipBc9"
      }
    },
    {
      "cell_type": "markdown",
      "source": [
        "* lambda: là một hàm ẩn danh trong python \n",
        "\n",
        "* lambda arguments: expression"
      ],
      "metadata": {
        "id": "89bNQcSSpFnE"
      }
    },
    {
      "cell_type": "code",
      "source": [
        "# Đảo ngược chuỗi và in hoa với lambda\n",
        "\n",
        "my_str = \"Hàm ẩn danh trong Python\"\n",
        "rev_upper = lambda c: c.upper() [::-1]\n",
        "\n",
        "print(rev_upper(my_str))"
      ],
      "metadata": {
        "id": "PbjkhSuoUDMO",
        "colab": {
          "base_uri": "https://localhost:8080/"
        },
        "outputId": "82201f5a-ca5d-4c1b-e708-8ccbd859b51d"
      },
      "execution_count": 95,
      "outputs": [
        {
          "output_type": "stream",
          "name": "stdout",
          "text": [
            "NOHTYP GNORT HNAD NẨ MÀH\n"
          ]
        }
      ]
    },
    {
      "cell_type": "markdown",
      "source": [
        "###5.2.2.filter()"
      ],
      "metadata": {
        "id": "rl-Kd2j03M08"
      }
    },
    {
      "cell_type": "markdown",
      "source": [
        "* filter(func, data)\n",
        "\n",
        "* Hàm fileter nhận vào 1 hàm và 1 danh sách đối số"
      ],
      "metadata": {
        "id": "LNbR6ltQ3Pds"
      }
    },
    {
      "cell_type": "code",
      "source": [
        "# Ví dụ tạo 1 list mới với filter\n",
        "my_list = [1, 5, 4, 6, 8, 11, 3, 12]\n",
        "\n",
        "new_list = list(filter(lambda x: (x%2 == 0) , my_list))\n",
        "\n",
        "print(new_list)"
      ],
      "metadata": {
        "colab": {
          "base_uri": "https://localhost:8080/"
        },
        "id": "OdNSV0z928NS",
        "outputId": "9c9df862-ca2f-403a-d243-e9a1e351b79d"
      },
      "execution_count": 96,
      "outputs": [
        {
          "output_type": "stream",
          "name": "stdout",
          "text": [
            "[4, 6, 8, 12]\n"
          ]
        }
      ]
    },
    {
      "cell_type": "code",
      "source": [
        "# Cũng có thể dùng comprehension\n",
        "my_list = [1, 5, 4, 6, 8, 11, 3, 12]\n",
        "\n",
        "new_list = [i for i in my_list if i % 2 == 0]\n",
        "print(new_list)"
      ],
      "metadata": {
        "colab": {
          "base_uri": "https://localhost:8080/"
        },
        "id": "Y7WdOP4spFHG",
        "outputId": "bb713772-742c-4343-bc75-ae4253fc246d"
      },
      "execution_count": 99,
      "outputs": [
        {
          "output_type": "stream",
          "name": "stdout",
          "text": [
            "[4, 6, 8, 12]\n"
          ]
        }
      ]
    },
    {
      "cell_type": "markdown",
      "source": [
        "##5.3.mapping data"
      ],
      "metadata": {
        "id": "O6daz1yX3vdH"
      }
    },
    {
      "cell_type": "markdown",
      "source": [
        "* map(func, iterable[, iterable1, iterable2,..., iterableN])\n",
        "\n",
        "* map thực hiện func với từng phần tử trnog ierable và trả về 1 list kết quả "
      ],
      "metadata": {
        "id": "CVyWbSKy4Dnb"
      }
    },
    {
      "cell_type": "code",
      "source": [
        "# Ví dụ 1: Bình phương 1 list\n",
        "my_list = [i for i in range(11)]\n",
        "\n",
        "new_list = list(map(lambda x: x**2, my_list))\n",
        "print(new_list)"
      ],
      "metadata": {
        "colab": {
          "base_uri": "https://localhost:8080/"
        },
        "id": "o68emAefpFEP",
        "outputId": "fdfc0716-6fc3-48f4-9e63-8c3acc968cde"
      },
      "execution_count": 100,
      "outputs": [
        {
          "output_type": "stream",
          "name": "stdout",
          "text": [
            "[0, 1, 4, 9, 16, 25, 36, 49, 64, 81, 100]\n"
          ]
        }
      ]
    },
    {
      "cell_type": "code",
      "source": [
        "# Ví dụ cộng 2 list\n",
        "num1 = [4, 5, 6]\n",
        "num2 = [5, 6, 7]\n",
        "\n",
        "num_sum = list(map(lambda x1, x2: x1 + x2, num1, num2))\n",
        "print(num_sum)"
      ],
      "metadata": {
        "colab": {
          "base_uri": "https://localhost:8080/"
        },
        "id": "SuwqJWkqpFBH",
        "outputId": "67366875-88d4-4af1-9081-d8e58b2c9039"
      },
      "execution_count": 103,
      "outputs": [
        {
          "output_type": "stream",
          "name": "stdout",
          "text": [
            "[9, 11, 13]\n"
          ]
        }
      ]
    },
    {
      "cell_type": "code",
      "source": [],
      "metadata": {
        "id": "jNJ4aERvpE9-"
      },
      "execution_count": null,
      "outputs": []
    },
    {
      "cell_type": "code",
      "source": [],
      "metadata": {
        "id": "qipE6u8EpE7G"
      },
      "execution_count": null,
      "outputs": []
    },
    {
      "cell_type": "code",
      "source": [],
      "metadata": {
        "id": "84k8NO_XpE3_"
      },
      "execution_count": null,
      "outputs": []
    },
    {
      "cell_type": "code",
      "source": [],
      "metadata": {
        "id": "IRUPZbncpE1R"
      },
      "execution_count": null,
      "outputs": []
    },
    {
      "cell_type": "code",
      "source": [],
      "metadata": {
        "id": "cZybk3tnpEyM"
      },
      "execution_count": null,
      "outputs": []
    },
    {
      "cell_type": "code",
      "source": [],
      "metadata": {
        "id": "6n4tKDK2pEus"
      },
      "execution_count": null,
      "outputs": []
    },
    {
      "cell_type": "code",
      "source": [],
      "metadata": {
        "id": "92_arwKfpErl"
      },
      "execution_count": null,
      "outputs": []
    },
    {
      "cell_type": "code",
      "source": [],
      "metadata": {
        "id": "NwEUSnGlpEpB"
      },
      "execution_count": null,
      "outputs": []
    },
    {
      "cell_type": "code",
      "source": [],
      "metadata": {
        "id": "AYiMSUuXpEmW"
      },
      "execution_count": null,
      "outputs": []
    },
    {
      "cell_type": "code",
      "source": [],
      "metadata": {
        "id": "1NsgFNmupEjX"
      },
      "execution_count": null,
      "outputs": []
    },
    {
      "cell_type": "code",
      "source": [],
      "metadata": {
        "id": "dvV95LcGpEgx"
      },
      "execution_count": null,
      "outputs": []
    },
    {
      "cell_type": "code",
      "source": [],
      "metadata": {
        "id": "pvGRr0RKpEd8"
      },
      "execution_count": null,
      "outputs": []
    }
  ]
}