{
  "cells": [
    {
      "cell_type": "markdown",
      "source": [
        "######Bài 1\n",
        "Thực hiện các yêu cầu sau:\n",
        "a, Khởi tạo một list a với bộ 5 giá trị bất kỳ, in ra màn hình\n",
        "\n",
        "b, Khởi tạo và in một list b với 100 số nguyên chẵn đầu tiên [2, 4, 6, ...]\n",
        "\n",
        "c, Sử dụng list để nhập vào từ bàn phím một mảng c gồm n phần tử nguyên. Tính tổng các phần tử trong mảng\n",
        "\n",
        "d, Sử dụng list để nhập vào từ bàn phím một mảng hai chiều d(n x m) các số thực. Hiển thị mảng d lên màn hình\n"
      ],
      "metadata": {
        "id": "iU2nJGrKCbcv"
      }
    },
    {
      "cell_type": "code",
      "execution_count": null,
      "metadata": {
        "id": "0TrfRGJZt2pQ"
      },
      "outputs": [],
      "source": [
        "from random import randint"
      ]
    },
    {
      "cell_type": "code",
      "execution_count": null,
      "metadata": {
        "id": "PJw0vFitt2r-",
        "colab": {
          "base_uri": "https://localhost:8080/"
        },
        "outputId": "d3c8b7e9-26a0-4f2d-890d-43d9857b0935"
      },
      "outputs": [
        {
          "output_type": "stream",
          "name": "stdout",
          "text": [
            "[24, 52, 23, 12, 40]\n"
          ]
        }
      ],
      "source": [
        "# câu a\n",
        "# randint(a, b): sinh ngẫu nhiên 1 giá trị trong [a, b, step = 1]\n",
        "a = [randint(1, 100) for _ in range(5)]\n",
        "print(a)"
      ]
    },
    {
      "cell_type": "code",
      "execution_count": null,
      "metadata": {
        "id": "lVoFHiZZt2u2",
        "colab": {
          "base_uri": "https://localhost:8080/"
        },
        "outputId": "f91621d9-895c-47be-82db-e17ef85b4e08"
      },
      "outputs": [
        {
          "output_type": "stream",
          "name": "stdout",
          "text": [
            "[2, 4, 6, 8, 10, 12, 14, 16, 18, 20, 22, 24, 26, 28, 30, 32, 34, 36, 38, 40, 42, 44, 46, 48, 50, 52, 54, 56, 58, 60, 62, 64, 66, 68, 70, 72, 74, 76, 78, 80, 82, 84, 86, 88, 90, 92, 94, 96, 98, 100, 102, 104, 106, 108, 110, 112, 114, 116, 118, 120, 122, 124, 126, 128, 130, 132, 134, 136, 138, 140, 142, 144, 146, 148, 150, 152, 154, 156, 158, 160, 162, 164, 166, 168, 170, 172, 174, 176, 178, 180, 182, 184, 186, 188, 190, 192, 194, 196, 198, 200]\n"
          ]
        }
      ],
      "source": [
        "# câu b\n",
        "b = [i * 2 for i in range(1, 101)]\n",
        "print(b)"
      ]
    },
    {
      "cell_type": "code",
      "execution_count": null,
      "metadata": {
        "id": "EHA68h82t2xf",
        "colab": {
          "base_uri": "https://localhost:8080/"
        },
        "outputId": "f2e22bed-e92f-4208-87a7-41d7a91a5b1d"
      },
      "outputs": [
        {
          "name": "stdout",
          "output_type": "stream",
          "text": [
            "n = 5\n"
          ]
        }
      ],
      "source": [
        "# câu c\n",
        "n = (int(input(\"n = \")))"
      ]
    },
    {
      "cell_type": "code",
      "execution_count": null,
      "metadata": {
        "id": "WC17SgpOt20W",
        "colab": {
          "base_uri": "https://localhost:8080/"
        },
        "outputId": "672f0733-2720-4c0b-c1ef-125945535d01"
      },
      "outputs": [
        {
          "output_type": "stream",
          "name": "stdout",
          "text": [
            "c[0] = 1\n",
            "c[1] = 2\n",
            "c[2] = 3\n",
            "c[3] = 4\n",
            "c[4] = 5\n",
            "[1, 2, 3, 4, 5]\n"
          ]
        }
      ],
      "source": [
        "# Cách 1\n",
        "c = [int(input(\"c[%d] = \"%i)) for i in range(n)]\n",
        "print(c)"
      ]
    },
    {
      "cell_type": "code",
      "execution_count": null,
      "metadata": {
        "id": "iIirNy35t23I",
        "colab": {
          "base_uri": "https://localhost:8080/"
        },
        "outputId": "e29887e0-540a-4712-8fdd-c7d23c47ca08"
      },
      "outputs": [
        {
          "output_type": "stream",
          "name": "stdout",
          "text": [
            "c[0] = 1\n",
            "c[1] = 2\n",
            "c[2] = 3\n",
            "c[3] = 4\n",
            "c[4] = 5\n",
            "[1, 2, 3, 4, 5]\n"
          ]
        }
      ],
      "source": [
        "# cách 2\n",
        "c = []\n",
        "for i in range(n):\n",
        "  c.append(int(input(\"c[%d] = \"%i)))\n",
        "print(c)"
      ]
    },
    {
      "cell_type": "code",
      "execution_count": null,
      "metadata": {
        "id": "IS4-FBuqt252",
        "colab": {
          "base_uri": "https://localhost:8080/"
        },
        "outputId": "936d2d42-e5a4-4520-ff9e-15aad9ca68ca"
      },
      "outputs": [
        {
          "name": "stdout",
          "output_type": "stream",
          "text": [
            "n = 2\n",
            "m = 3\n"
          ]
        }
      ],
      "source": [
        "# Câu d\n",
        "# Do mảng 2 chiều là mảng 1 chiều mà các phần tử của nó là 1 mảng 1 chiều khác\n",
        "n = int(input(\"n = \"))\n",
        "m = int(input(\"m = \"))\n"
      ]
    },
    {
      "cell_type": "code",
      "execution_count": null,
      "metadata": {
        "id": "iEqZ9lYft2_m",
        "colab": {
          "base_uri": "https://localhost:8080/"
        },
        "outputId": "2aa69863-20e7-492e-d443-43b837bd999e"
      },
      "outputs": [
        {
          "output_type": "stream",
          "name": "stdout",
          "text": [
            "d1[0][0] = 1\n",
            "d1[0][1] = 2\n",
            "d1[0][2] = 3\n",
            "d1[1][0] = 4\n",
            "d1[1][1] = 5\n",
            "d1[1][2] = 6\n",
            "[[1.0, 2.0, 3.0], [4.0, 5.0, 6.0]]\n"
          ]
        }
      ],
      "source": [
        "d = []\n",
        "for i in range(n):\n",
        "  d1 = []\n",
        "  for j in range(m):\n",
        "    d1.append(float(input(\"d1[%d][%d] = \"%(i, j))))\n",
        "  d.append(d1)\n",
        "\n",
        "print(d)"
      ]
    },
    {
      "cell_type": "code",
      "execution_count": null,
      "metadata": {
        "id": "o0XNAdHMt3Cm",
        "colab": {
          "base_uri": "https://localhost:8080/"
        },
        "outputId": "c46271c1-1edc-40a4-bd43-2897d5b8ccea"
      },
      "outputs": [
        {
          "output_type": "stream",
          "name": "stdout",
          "text": [
            "d[0][0] = 1\n",
            "d[0][1] = 2\n",
            "d[0][2] = 3\n",
            "d[1][0] = 4\n",
            "d[1][1] = 5\n",
            "d[1][2] = 6\n",
            "[[1.0, 2.0, 3.0], [4.0, 5.0, 6.0]]\n"
          ]
        }
      ],
      "source": [
        "# Cách viết rút gọn\n",
        "d = [] \n",
        "d = [ [float(input(\"d[%d][%d] = \"%(i, j) )) for j in range(m)]for i in range(n) ]\n",
        "print(d)"
      ]
    },
    {
      "cell_type": "markdown",
      "source": [
        "######Bài 2:\n",
        "Thực hiện các yêu cầu sau:\n",
        "\n",
        "a, Nhập vào từ bàn phím một mảng a gồm n số nguyên. Sắp a tăng dần và in ra màn hình\n",
        "\n",
        "b, Tìm max, tìm min, tìm vị trí của phần tử chẵn đầu tiên trong a, cho biết trong mảng có chứa số 3 hay không. \n",
        "\n",
        "c, Chèn một phần tử vào vị trí k; xóa toàn bộ các phần tử chẵn trong mảng\n",
        "\n",
        "d, Nhập thêm mảng b gồm m phần tử nguyên từ bàn phím. Nhân bản b lên gấp đôi, đảo ngược b sau đó ghép a với b để thu được mảng c\n"
      ],
      "metadata": {
        "id": "pwXC_HDBHDN2"
      }
    },
    {
      "cell_type": "code",
      "execution_count": null,
      "metadata": {
        "id": "hqt70scXt3Fe",
        "colab": {
          "base_uri": "https://localhost:8080/"
        },
        "outputId": "0cc64c66-cf56-402c-e6d0-58f4bd068d4f"
      },
      "outputs": [
        {
          "output_type": "stream",
          "name": "stdout",
          "text": [
            "n = 5\n",
            "a[0] = 1\n",
            "a[1] = 4\n",
            "a[2] = 3\n",
            "a[3] = 2\n",
            "a[4] = -12\n",
            "Mảng a sau khi đã sắp xếp tăng [-12, 1, 2, 3, 4]\n"
          ]
        }
      ],
      "source": [
        "# câu a\n",
        "a, n = [], int(input(\"n = \"))\n",
        "for i in range(n):\n",
        "  a.append(int(input(\"a[%d] = \"%i))) \n",
        "\n",
        "a.sort()\n",
        "print(\"Mảng a sau khi đã sắp xếp tăng\", a)"
      ]
    },
    {
      "cell_type": "code",
      "execution_count": null,
      "metadata": {
        "id": "smCisPe5t3IO",
        "colab": {
          "base_uri": "https://localhost:8080/"
        },
        "outputId": "85f57cf3-05a7-4d2b-d291-48f79e756c77"
      },
      "outputs": [
        {
          "output_type": "stream",
          "name": "stdout",
          "text": [
            "Phần tử lớn nhất:  4\n",
            "Phần tử nhỏ nhất:  -12\n"
          ]
        }
      ],
      "source": [
        "# câu b\n",
        "print(\"Phần tử lớn nhất: \", max(a))\n",
        "print(\"Phần tử nhỏ nhất: \", min(a))"
      ]
    },
    {
      "cell_type": "code",
      "execution_count": null,
      "metadata": {
        "id": "0cWs6I07t3LA",
        "colab": {
          "base_uri": "https://localhost:8080/"
        },
        "outputId": "ad08e654-0070-4ffe-d09e-4cc1f754acc8"
      },
      "outputs": [
        {
          "output_type": "stream",
          "name": "stdout",
          "text": [
            "Phần tử chẵn đầu tiên có chỉ số:  0\n"
          ]
        }
      ],
      "source": [
        "# Duyệt vòng lặp với ý nghĩa sau\n",
        "# i là index, num là value trong kiểu enumerate\n",
        "for i, num in enumerate(a):\n",
        "  if num%2 == 0:\n",
        "    print(\"Phần tử chẵn đầu tiên có chỉ số: \", i)\n",
        "    break\n"
      ]
    },
    {
      "cell_type": "code",
      "execution_count": null,
      "metadata": {
        "id": "WDjww5wQt3N2",
        "colab": {
          "base_uri": "https://localhost:8080/"
        },
        "outputId": "8b08afcc-19d0-4a56-8bcc-024590fb9a48"
      },
      "outputs": [
        {
          "output_type": "stream",
          "name": "stdout",
          "text": [
            "Mảng a có chứa số 3\n"
          ]
        }
      ],
      "source": [
        "print(\"Mảng a có chứa số 3\") if a.count(3) else print(\"Mảng a không chứa số 3\")"
      ]
    },
    {
      "cell_type": "code",
      "execution_count": null,
      "metadata": {
        "id": "KBgAhUqqt3Qf",
        "colab": {
          "base_uri": "https://localhost:8080/"
        },
        "outputId": "046ad855-4c02-4829-b075-4d77770b3202"
      },
      "outputs": [
        {
          "output_type": "stream",
          "name": "stdout",
          "text": [
            "value = 100\n",
            "index = 5\n",
            "[1, 2, 3, 4, 5, 100]\n"
          ]
        }
      ],
      "source": [
        "# Câu c\n",
        "a = [1, 2, 3, 4, 5]\n",
        "x = int(input(\"value = \"))\n",
        "k = int(input(\"index = \"))\n",
        "a.insert(k, x)\n",
        "print(a)"
      ]
    },
    {
      "cell_type": "code",
      "execution_count": null,
      "metadata": {
        "id": "aK1a0sF_t3TQ",
        "colab": {
          "base_uri": "https://localhost:8080/"
        },
        "outputId": "a0db79f0-a5c7-457e-c1d7-a5b6512c8f44"
      },
      "outputs": [
        {
          "output_type": "stream",
          "name": "stdout",
          "text": [
            "Mảng sau khi xóa\n",
            " [1, 3, 5, 7, 9]\n"
          ]
        }
      ],
      "source": [
        "# câu c \n",
        "# xóa toàn bộ chẵn\n",
        "a = [1, 2, 3, 4, 5, 6, 7, 8, 9, 10]\n",
        "i = 0\n",
        "while i < len(a):\n",
        "  while i < len(a) and a[i] % 2 == 0:\n",
        "    a.remove(a[i])\n",
        "  i = i + 1\n",
        "\n",
        "print(\"Mảng sau khi xóa\\n\", a)"
      ]
    },
    {
      "cell_type": "code",
      "execution_count": null,
      "metadata": {
        "id": "-GZCZweTt3V-",
        "colab": {
          "base_uri": "https://localhost:8080/"
        },
        "outputId": "7d9db3f3-d7ff-4321-8ae6-3d74fd847ca7"
      },
      "outputs": [
        {
          "output_type": "stream",
          "name": "stdout",
          "text": [
            "m = 5\n",
            "b[0] = 1\n",
            "b[1] = 2\n",
            "b[2] = 3\n",
            "b[3] = 4\n",
            "b[4] = 5\n",
            "Mảng b: [1, 2, 3, 4, 5]\n"
          ]
        }
      ],
      "source": [
        "# câu d\n",
        "m = int(input(\"m = \"))\n",
        "b = []\n",
        "for i in range(n):\n",
        "  b.append(int(input(\"b[%d] = \"%i))) \n",
        "print(\"Mảng b:\", b)"
      ]
    },
    {
      "cell_type": "code",
      "execution_count": null,
      "metadata": {
        "id": "ObcBwSuVt3Yu",
        "colab": {
          "base_uri": "https://localhost:8080/"
        },
        "outputId": "872c17b9-c4e6-4b1f-afbc-6f5cb4ed89d2"
      },
      "outputs": [
        {
          "output_type": "stream",
          "name": "stdout",
          "text": [
            "Mảng b sau khi nhân bản và đảo ngược:  [5, 4, 3, 2, 1, 5, 4, 3, 2, 1]\n"
          ]
        }
      ],
      "source": [
        "# Nhân đôi mảng b\n",
        "b = b * 2\n",
        "\n",
        "# Đảo mảng b\n",
        "b.reverse()\n",
        "print(\"Mảng b sau khi nhân bản và đảo ngược: \", b)"
      ]
    },
    {
      "cell_type": "code",
      "execution_count": null,
      "metadata": {
        "id": "nZzgKr7nt3bO",
        "colab": {
          "base_uri": "https://localhost:8080/"
        },
        "outputId": "41fac8eb-68af-4dcc-bbf6-36b2c9bb6e41"
      },
      "outputs": [
        {
          "output_type": "stream",
          "name": "stdout",
          "text": [
            "Mảng c:  [1, 3, 5, 7, 9, 5, 4, 3, 2, 1, 5, 4, 3, 2, 1]\n"
          ]
        }
      ],
      "source": [
        "# Tạo mảng c\n",
        "c = a + b\n",
        "print(\"Mảng c: \", c)"
      ]
    },
    {
      "cell_type": "code",
      "execution_count": null,
      "metadata": {
        "id": "85G_4mfdt3du"
      },
      "outputs": [],
      "source": []
    },
    {
      "cell_type": "code",
      "execution_count": null,
      "metadata": {
        "id": "uAWYLHgQt3gf"
      },
      "outputs": [],
      "source": []
    }
  ],
  "metadata": {
    "colab": {
      "provenance": [],
      "toc_visible": true
    },
    "kernelspec": {
      "display_name": "Python 3",
      "name": "python3"
    },
    "language_info": {
      "name": "python"
    }
  },
  "nbformat": 4,
  "nbformat_minor": 0
}